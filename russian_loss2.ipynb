{
 "cells": [
  {
   "cell_type": "markdown",
   "metadata": {},
   "source": [
    "# Extract data into df"
   ]
  },
  {
   "cell_type": "code",
   "execution_count": 1,
   "metadata": {},
   "outputs": [],
   "source": [
    "# Input websites\n",
    "base_url = 'https://index.minfin.com.ua/ua/russian-invading/casualties/'"
   ]
  },
  {
   "cell_type": "code",
   "execution_count": 2,
   "metadata": {},
   "outputs": [],
   "source": [
    "# Create a list of months that serves as a url input for websites\n",
    "import datetime\n",
    "current_month = datetime.datetime.now().month # a number of passed months\n",
    "\n",
    "month_list = []\n",
    "for i in range(2,current_month + 1): # add the current month\n",
    "        t = datetime.datetime(2022, i, 1, 0, 0)\n",
    "        t = t.strftime('%Y-%m')\n",
    "        month_list.append(t)\n"
   ]
  },
  {
   "cell_type": "code",
   "execution_count": 3,
   "metadata": {},
   "outputs": [
    {
     "data": {
      "text/plain": [
       "['2022-02',\n",
       " '2022-03',\n",
       " '2022-04',\n",
       " '2022-05',\n",
       " '2022-06',\n",
       " '2022-07',\n",
       " '2022-08',\n",
       " '2022-09',\n",
       " '2022-10',\n",
       " '2022-11']"
      ]
     },
     "execution_count": 3,
     "metadata": {},
     "output_type": "execute_result"
    }
   ],
   "source": [
    "month_list"
   ]
  },
  {
   "cell_type": "code",
   "execution_count": 4,
   "metadata": {},
   "outputs": [
    {
     "name": "stdout",
     "output_type": "stream",
     "text": [
      "2022-11\n",
      "2022-10\n",
      "2022-09\n",
      "2022-08\n",
      "2022-07\n",
      "2022-06\n",
      "2022-05\n",
      "2022-04\n",
      "2022-03\n",
      "2022-02\n"
     ]
    }
   ],
   "source": [
    "import requests\n",
    "import bs4\n",
    "result_set = []\n",
    "# Create the ResultSet\n",
    "for month in reversed(month_list):\n",
    "    print(month)\n",
    "    res = requests.get(base_url + month)\n",
    "    soup = bs4.BeautifulSoup(res.text, 'html.parser');\n",
    "    data = soup.find_all(\"div\",{\"class\":\"casualties\"})\n",
    "    result_set.extend(data[1:])"
   ]
  },
  {
   "cell_type": "code",
   "execution_count": 5,
   "metadata": {},
   "outputs": [
    {
     "name": "stderr",
     "output_type": "stream",
     "text": [
      "/var/folders/lh/cqpxzpsx44zdjqktqsfb722m0000gn/T/ipykernel_72719/3530480628.py:16: FutureWarning: The frame.append method is deprecated and will be removed from pandas in a future version. Use pandas.concat instead.\n",
      "  df = df.append(d, ignore_index = True)\n",
      "/var/folders/lh/cqpxzpsx44zdjqktqsfb722m0000gn/T/ipykernel_72719/3530480628.py:16: FutureWarning: The frame.append method is deprecated and will be removed from pandas in a future version. Use pandas.concat instead.\n",
      "  df = df.append(d, ignore_index = True)\n",
      "/var/folders/lh/cqpxzpsx44zdjqktqsfb722m0000gn/T/ipykernel_72719/3530480628.py:16: FutureWarning: The frame.append method is deprecated and will be removed from pandas in a future version. Use pandas.concat instead.\n",
      "  df = df.append(d, ignore_index = True)\n",
      "/var/folders/lh/cqpxzpsx44zdjqktqsfb722m0000gn/T/ipykernel_72719/3530480628.py:16: FutureWarning: The frame.append method is deprecated and will be removed from pandas in a future version. Use pandas.concat instead.\n",
      "  df = df.append(d, ignore_index = True)\n",
      "/var/folders/lh/cqpxzpsx44zdjqktqsfb722m0000gn/T/ipykernel_72719/3530480628.py:16: FutureWarning: The frame.append method is deprecated and will be removed from pandas in a future version. Use pandas.concat instead.\n",
      "  df = df.append(d, ignore_index = True)\n",
      "/var/folders/lh/cqpxzpsx44zdjqktqsfb722m0000gn/T/ipykernel_72719/3530480628.py:16: FutureWarning: The frame.append method is deprecated and will be removed from pandas in a future version. Use pandas.concat instead.\n",
      "  df = df.append(d, ignore_index = True)\n",
      "/var/folders/lh/cqpxzpsx44zdjqktqsfb722m0000gn/T/ipykernel_72719/3530480628.py:16: FutureWarning: The frame.append method is deprecated and will be removed from pandas in a future version. Use pandas.concat instead.\n",
      "  df = df.append(d, ignore_index = True)\n",
      "/var/folders/lh/cqpxzpsx44zdjqktqsfb722m0000gn/T/ipykernel_72719/3530480628.py:16: FutureWarning: The frame.append method is deprecated and will be removed from pandas in a future version. Use pandas.concat instead.\n",
      "  df = df.append(d, ignore_index = True)\n",
      "/var/folders/lh/cqpxzpsx44zdjqktqsfb722m0000gn/T/ipykernel_72719/3530480628.py:16: FutureWarning: The frame.append method is deprecated and will be removed from pandas in a future version. Use pandas.concat instead.\n",
      "  df = df.append(d, ignore_index = True)\n",
      "/var/folders/lh/cqpxzpsx44zdjqktqsfb722m0000gn/T/ipykernel_72719/3530480628.py:16: FutureWarning: The frame.append method is deprecated and will be removed from pandas in a future version. Use pandas.concat instead.\n",
      "  df = df.append(d, ignore_index = True)\n",
      "/var/folders/lh/cqpxzpsx44zdjqktqsfb722m0000gn/T/ipykernel_72719/3530480628.py:16: FutureWarning: The frame.append method is deprecated and will be removed from pandas in a future version. Use pandas.concat instead.\n",
      "  df = df.append(d, ignore_index = True)\n",
      "/var/folders/lh/cqpxzpsx44zdjqktqsfb722m0000gn/T/ipykernel_72719/3530480628.py:16: FutureWarning: The frame.append method is deprecated and will be removed from pandas in a future version. Use pandas.concat instead.\n",
      "  df = df.append(d, ignore_index = True)\n",
      "/var/folders/lh/cqpxzpsx44zdjqktqsfb722m0000gn/T/ipykernel_72719/3530480628.py:16: FutureWarning: The frame.append method is deprecated and will be removed from pandas in a future version. Use pandas.concat instead.\n",
      "  df = df.append(d, ignore_index = True)\n",
      "/var/folders/lh/cqpxzpsx44zdjqktqsfb722m0000gn/T/ipykernel_72719/3530480628.py:16: FutureWarning: The frame.append method is deprecated and will be removed from pandas in a future version. Use pandas.concat instead.\n",
      "  df = df.append(d, ignore_index = True)\n",
      "/var/folders/lh/cqpxzpsx44zdjqktqsfb722m0000gn/T/ipykernel_72719/3530480628.py:16: FutureWarning: The frame.append method is deprecated and will be removed from pandas in a future version. Use pandas.concat instead.\n",
      "  df = df.append(d, ignore_index = True)\n",
      "/var/folders/lh/cqpxzpsx44zdjqktqsfb722m0000gn/T/ipykernel_72719/3530480628.py:16: FutureWarning: The frame.append method is deprecated and will be removed from pandas in a future version. Use pandas.concat instead.\n",
      "  df = df.append(d, ignore_index = True)\n",
      "/var/folders/lh/cqpxzpsx44zdjqktqsfb722m0000gn/T/ipykernel_72719/3530480628.py:16: FutureWarning: The frame.append method is deprecated and will be removed from pandas in a future version. Use pandas.concat instead.\n",
      "  df = df.append(d, ignore_index = True)\n",
      "/var/folders/lh/cqpxzpsx44zdjqktqsfb722m0000gn/T/ipykernel_72719/3530480628.py:16: FutureWarning: The frame.append method is deprecated and will be removed from pandas in a future version. Use pandas.concat instead.\n",
      "  df = df.append(d, ignore_index = True)\n",
      "/var/folders/lh/cqpxzpsx44zdjqktqsfb722m0000gn/T/ipykernel_72719/3530480628.py:16: FutureWarning: The frame.append method is deprecated and will be removed from pandas in a future version. Use pandas.concat instead.\n",
      "  df = df.append(d, ignore_index = True)\n",
      "/var/folders/lh/cqpxzpsx44zdjqktqsfb722m0000gn/T/ipykernel_72719/3530480628.py:16: FutureWarning: The frame.append method is deprecated and will be removed from pandas in a future version. Use pandas.concat instead.\n",
      "  df = df.append(d, ignore_index = True)\n",
      "/var/folders/lh/cqpxzpsx44zdjqktqsfb722m0000gn/T/ipykernel_72719/3530480628.py:16: FutureWarning: The frame.append method is deprecated and will be removed from pandas in a future version. Use pandas.concat instead.\n",
      "  df = df.append(d, ignore_index = True)\n",
      "/var/folders/lh/cqpxzpsx44zdjqktqsfb722m0000gn/T/ipykernel_72719/3530480628.py:16: FutureWarning: The frame.append method is deprecated and will be removed from pandas in a future version. Use pandas.concat instead.\n",
      "  df = df.append(d, ignore_index = True)\n",
      "/var/folders/lh/cqpxzpsx44zdjqktqsfb722m0000gn/T/ipykernel_72719/3530480628.py:16: FutureWarning: The frame.append method is deprecated and will be removed from pandas in a future version. Use pandas.concat instead.\n",
      "  df = df.append(d, ignore_index = True)\n",
      "/var/folders/lh/cqpxzpsx44zdjqktqsfb722m0000gn/T/ipykernel_72719/3530480628.py:16: FutureWarning: The frame.append method is deprecated and will be removed from pandas in a future version. Use pandas.concat instead.\n",
      "  df = df.append(d, ignore_index = True)\n",
      "/var/folders/lh/cqpxzpsx44zdjqktqsfb722m0000gn/T/ipykernel_72719/3530480628.py:16: FutureWarning: The frame.append method is deprecated and will be removed from pandas in a future version. Use pandas.concat instead.\n",
      "  df = df.append(d, ignore_index = True)\n",
      "/var/folders/lh/cqpxzpsx44zdjqktqsfb722m0000gn/T/ipykernel_72719/3530480628.py:16: FutureWarning: The frame.append method is deprecated and will be removed from pandas in a future version. Use pandas.concat instead.\n",
      "  df = df.append(d, ignore_index = True)\n",
      "/var/folders/lh/cqpxzpsx44zdjqktqsfb722m0000gn/T/ipykernel_72719/3530480628.py:16: FutureWarning: The frame.append method is deprecated and will be removed from pandas in a future version. Use pandas.concat instead.\n",
      "  df = df.append(d, ignore_index = True)\n",
      "/var/folders/lh/cqpxzpsx44zdjqktqsfb722m0000gn/T/ipykernel_72719/3530480628.py:16: FutureWarning: The frame.append method is deprecated and will be removed from pandas in a future version. Use pandas.concat instead.\n",
      "  df = df.append(d, ignore_index = True)\n",
      "/var/folders/lh/cqpxzpsx44zdjqktqsfb722m0000gn/T/ipykernel_72719/3530480628.py:16: FutureWarning: The frame.append method is deprecated and will be removed from pandas in a future version. Use pandas.concat instead.\n",
      "  df = df.append(d, ignore_index = True)\n",
      "/var/folders/lh/cqpxzpsx44zdjqktqsfb722m0000gn/T/ipykernel_72719/3530480628.py:16: FutureWarning: The frame.append method is deprecated and will be removed from pandas in a future version. Use pandas.concat instead.\n",
      "  df = df.append(d, ignore_index = True)\n",
      "/var/folders/lh/cqpxzpsx44zdjqktqsfb722m0000gn/T/ipykernel_72719/3530480628.py:16: FutureWarning: The frame.append method is deprecated and will be removed from pandas in a future version. Use pandas.concat instead.\n",
      "  df = df.append(d, ignore_index = True)\n",
      "/var/folders/lh/cqpxzpsx44zdjqktqsfb722m0000gn/T/ipykernel_72719/3530480628.py:16: FutureWarning: The frame.append method is deprecated and will be removed from pandas in a future version. Use pandas.concat instead.\n",
      "  df = df.append(d, ignore_index = True)\n",
      "/var/folders/lh/cqpxzpsx44zdjqktqsfb722m0000gn/T/ipykernel_72719/3530480628.py:16: FutureWarning: The frame.append method is deprecated and will be removed from pandas in a future version. Use pandas.concat instead.\n",
      "  df = df.append(d, ignore_index = True)\n",
      "/var/folders/lh/cqpxzpsx44zdjqktqsfb722m0000gn/T/ipykernel_72719/3530480628.py:16: FutureWarning: The frame.append method is deprecated and will be removed from pandas in a future version. Use pandas.concat instead.\n",
      "  df = df.append(d, ignore_index = True)\n",
      "/var/folders/lh/cqpxzpsx44zdjqktqsfb722m0000gn/T/ipykernel_72719/3530480628.py:16: FutureWarning: The frame.append method is deprecated and will be removed from pandas in a future version. Use pandas.concat instead.\n",
      "  df = df.append(d, ignore_index = True)\n",
      "/var/folders/lh/cqpxzpsx44zdjqktqsfb722m0000gn/T/ipykernel_72719/3530480628.py:16: FutureWarning: The frame.append method is deprecated and will be removed from pandas in a future version. Use pandas.concat instead.\n",
      "  df = df.append(d, ignore_index = True)\n",
      "/var/folders/lh/cqpxzpsx44zdjqktqsfb722m0000gn/T/ipykernel_72719/3530480628.py:16: FutureWarning: The frame.append method is deprecated and will be removed from pandas in a future version. Use pandas.concat instead.\n",
      "  df = df.append(d, ignore_index = True)\n",
      "/var/folders/lh/cqpxzpsx44zdjqktqsfb722m0000gn/T/ipykernel_72719/3530480628.py:16: FutureWarning: The frame.append method is deprecated and will be removed from pandas in a future version. Use pandas.concat instead.\n",
      "  df = df.append(d, ignore_index = True)\n",
      "/var/folders/lh/cqpxzpsx44zdjqktqsfb722m0000gn/T/ipykernel_72719/3530480628.py:16: FutureWarning: The frame.append method is deprecated and will be removed from pandas in a future version. Use pandas.concat instead.\n",
      "  df = df.append(d, ignore_index = True)\n",
      "/var/folders/lh/cqpxzpsx44zdjqktqsfb722m0000gn/T/ipykernel_72719/3530480628.py:16: FutureWarning: The frame.append method is deprecated and will be removed from pandas in a future version. Use pandas.concat instead.\n",
      "  df = df.append(d, ignore_index = True)\n",
      "/var/folders/lh/cqpxzpsx44zdjqktqsfb722m0000gn/T/ipykernel_72719/3530480628.py:16: FutureWarning: The frame.append method is deprecated and will be removed from pandas in a future version. Use pandas.concat instead.\n",
      "  df = df.append(d, ignore_index = True)\n",
      "/var/folders/lh/cqpxzpsx44zdjqktqsfb722m0000gn/T/ipykernel_72719/3530480628.py:16: FutureWarning: The frame.append method is deprecated and will be removed from pandas in a future version. Use pandas.concat instead.\n",
      "  df = df.append(d, ignore_index = True)\n",
      "/var/folders/lh/cqpxzpsx44zdjqktqsfb722m0000gn/T/ipykernel_72719/3530480628.py:16: FutureWarning: The frame.append method is deprecated and will be removed from pandas in a future version. Use pandas.concat instead.\n",
      "  df = df.append(d, ignore_index = True)\n",
      "/var/folders/lh/cqpxzpsx44zdjqktqsfb722m0000gn/T/ipykernel_72719/3530480628.py:16: FutureWarning: The frame.append method is deprecated and will be removed from pandas in a future version. Use pandas.concat instead.\n",
      "  df = df.append(d, ignore_index = True)\n",
      "/var/folders/lh/cqpxzpsx44zdjqktqsfb722m0000gn/T/ipykernel_72719/3530480628.py:16: FutureWarning: The frame.append method is deprecated and will be removed from pandas in a future version. Use pandas.concat instead.\n",
      "  df = df.append(d, ignore_index = True)\n",
      "/var/folders/lh/cqpxzpsx44zdjqktqsfb722m0000gn/T/ipykernel_72719/3530480628.py:16: FutureWarning: The frame.append method is deprecated and will be removed from pandas in a future version. Use pandas.concat instead.\n",
      "  df = df.append(d, ignore_index = True)\n",
      "/var/folders/lh/cqpxzpsx44zdjqktqsfb722m0000gn/T/ipykernel_72719/3530480628.py:16: FutureWarning: The frame.append method is deprecated and will be removed from pandas in a future version. Use pandas.concat instead.\n",
      "  df = df.append(d, ignore_index = True)\n",
      "/var/folders/lh/cqpxzpsx44zdjqktqsfb722m0000gn/T/ipykernel_72719/3530480628.py:16: FutureWarning: The frame.append method is deprecated and will be removed from pandas in a future version. Use pandas.concat instead.\n",
      "  df = df.append(d, ignore_index = True)\n",
      "/var/folders/lh/cqpxzpsx44zdjqktqsfb722m0000gn/T/ipykernel_72719/3530480628.py:16: FutureWarning: The frame.append method is deprecated and will be removed from pandas in a future version. Use pandas.concat instead.\n",
      "  df = df.append(d, ignore_index = True)\n",
      "/var/folders/lh/cqpxzpsx44zdjqktqsfb722m0000gn/T/ipykernel_72719/3530480628.py:16: FutureWarning: The frame.append method is deprecated and will be removed from pandas in a future version. Use pandas.concat instead.\n",
      "  df = df.append(d, ignore_index = True)\n",
      "/var/folders/lh/cqpxzpsx44zdjqktqsfb722m0000gn/T/ipykernel_72719/3530480628.py:16: FutureWarning: The frame.append method is deprecated and will be removed from pandas in a future version. Use pandas.concat instead.\n",
      "  df = df.append(d, ignore_index = True)\n",
      "/var/folders/lh/cqpxzpsx44zdjqktqsfb722m0000gn/T/ipykernel_72719/3530480628.py:16: FutureWarning: The frame.append method is deprecated and will be removed from pandas in a future version. Use pandas.concat instead.\n",
      "  df = df.append(d, ignore_index = True)\n",
      "/var/folders/lh/cqpxzpsx44zdjqktqsfb722m0000gn/T/ipykernel_72719/3530480628.py:16: FutureWarning: The frame.append method is deprecated and will be removed from pandas in a future version. Use pandas.concat instead.\n",
      "  df = df.append(d, ignore_index = True)\n",
      "/var/folders/lh/cqpxzpsx44zdjqktqsfb722m0000gn/T/ipykernel_72719/3530480628.py:16: FutureWarning: The frame.append method is deprecated and will be removed from pandas in a future version. Use pandas.concat instead.\n",
      "  df = df.append(d, ignore_index = True)\n",
      "/var/folders/lh/cqpxzpsx44zdjqktqsfb722m0000gn/T/ipykernel_72719/3530480628.py:16: FutureWarning: The frame.append method is deprecated and will be removed from pandas in a future version. Use pandas.concat instead.\n",
      "  df = df.append(d, ignore_index = True)\n",
      "/var/folders/lh/cqpxzpsx44zdjqktqsfb722m0000gn/T/ipykernel_72719/3530480628.py:16: FutureWarning: The frame.append method is deprecated and will be removed from pandas in a future version. Use pandas.concat instead.\n",
      "  df = df.append(d, ignore_index = True)\n",
      "/var/folders/lh/cqpxzpsx44zdjqktqsfb722m0000gn/T/ipykernel_72719/3530480628.py:16: FutureWarning: The frame.append method is deprecated and will be removed from pandas in a future version. Use pandas.concat instead.\n",
      "  df = df.append(d, ignore_index = True)\n",
      "/var/folders/lh/cqpxzpsx44zdjqktqsfb722m0000gn/T/ipykernel_72719/3530480628.py:16: FutureWarning: The frame.append method is deprecated and will be removed from pandas in a future version. Use pandas.concat instead.\n",
      "  df = df.append(d, ignore_index = True)\n",
      "/var/folders/lh/cqpxzpsx44zdjqktqsfb722m0000gn/T/ipykernel_72719/3530480628.py:16: FutureWarning: The frame.append method is deprecated and will be removed from pandas in a future version. Use pandas.concat instead.\n",
      "  df = df.append(d, ignore_index = True)\n",
      "/var/folders/lh/cqpxzpsx44zdjqktqsfb722m0000gn/T/ipykernel_72719/3530480628.py:16: FutureWarning: The frame.append method is deprecated and will be removed from pandas in a future version. Use pandas.concat instead.\n",
      "  df = df.append(d, ignore_index = True)\n",
      "/var/folders/lh/cqpxzpsx44zdjqktqsfb722m0000gn/T/ipykernel_72719/3530480628.py:16: FutureWarning: The frame.append method is deprecated and will be removed from pandas in a future version. Use pandas.concat instead.\n",
      "  df = df.append(d, ignore_index = True)\n",
      "/var/folders/lh/cqpxzpsx44zdjqktqsfb722m0000gn/T/ipykernel_72719/3530480628.py:16: FutureWarning: The frame.append method is deprecated and will be removed from pandas in a future version. Use pandas.concat instead.\n",
      "  df = df.append(d, ignore_index = True)\n",
      "/var/folders/lh/cqpxzpsx44zdjqktqsfb722m0000gn/T/ipykernel_72719/3530480628.py:16: FutureWarning: The frame.append method is deprecated and will be removed from pandas in a future version. Use pandas.concat instead.\n",
      "  df = df.append(d, ignore_index = True)\n",
      "/var/folders/lh/cqpxzpsx44zdjqktqsfb722m0000gn/T/ipykernel_72719/3530480628.py:16: FutureWarning: The frame.append method is deprecated and will be removed from pandas in a future version. Use pandas.concat instead.\n",
      "  df = df.append(d, ignore_index = True)\n",
      "/var/folders/lh/cqpxzpsx44zdjqktqsfb722m0000gn/T/ipykernel_72719/3530480628.py:16: FutureWarning: The frame.append method is deprecated and will be removed from pandas in a future version. Use pandas.concat instead.\n",
      "  df = df.append(d, ignore_index = True)\n",
      "/var/folders/lh/cqpxzpsx44zdjqktqsfb722m0000gn/T/ipykernel_72719/3530480628.py:16: FutureWarning: The frame.append method is deprecated and will be removed from pandas in a future version. Use pandas.concat instead.\n",
      "  df = df.append(d, ignore_index = True)\n",
      "/var/folders/lh/cqpxzpsx44zdjqktqsfb722m0000gn/T/ipykernel_72719/3530480628.py:16: FutureWarning: The frame.append method is deprecated and will be removed from pandas in a future version. Use pandas.concat instead.\n",
      "  df = df.append(d, ignore_index = True)\n",
      "/var/folders/lh/cqpxzpsx44zdjqktqsfb722m0000gn/T/ipykernel_72719/3530480628.py:16: FutureWarning: The frame.append method is deprecated and will be removed from pandas in a future version. Use pandas.concat instead.\n",
      "  df = df.append(d, ignore_index = True)\n",
      "/var/folders/lh/cqpxzpsx44zdjqktqsfb722m0000gn/T/ipykernel_72719/3530480628.py:16: FutureWarning: The frame.append method is deprecated and will be removed from pandas in a future version. Use pandas.concat instead.\n",
      "  df = df.append(d, ignore_index = True)\n",
      "/var/folders/lh/cqpxzpsx44zdjqktqsfb722m0000gn/T/ipykernel_72719/3530480628.py:16: FutureWarning: The frame.append method is deprecated and will be removed from pandas in a future version. Use pandas.concat instead.\n",
      "  df = df.append(d, ignore_index = True)\n",
      "/var/folders/lh/cqpxzpsx44zdjqktqsfb722m0000gn/T/ipykernel_72719/3530480628.py:16: FutureWarning: The frame.append method is deprecated and will be removed from pandas in a future version. Use pandas.concat instead.\n",
      "  df = df.append(d, ignore_index = True)\n",
      "/var/folders/lh/cqpxzpsx44zdjqktqsfb722m0000gn/T/ipykernel_72719/3530480628.py:16: FutureWarning: The frame.append method is deprecated and will be removed from pandas in a future version. Use pandas.concat instead.\n",
      "  df = df.append(d, ignore_index = True)\n",
      "/var/folders/lh/cqpxzpsx44zdjqktqsfb722m0000gn/T/ipykernel_72719/3530480628.py:16: FutureWarning: The frame.append method is deprecated and will be removed from pandas in a future version. Use pandas.concat instead.\n",
      "  df = df.append(d, ignore_index = True)\n",
      "/var/folders/lh/cqpxzpsx44zdjqktqsfb722m0000gn/T/ipykernel_72719/3530480628.py:16: FutureWarning: The frame.append method is deprecated and will be removed from pandas in a future version. Use pandas.concat instead.\n",
      "  df = df.append(d, ignore_index = True)\n",
      "/var/folders/lh/cqpxzpsx44zdjqktqsfb722m0000gn/T/ipykernel_72719/3530480628.py:16: FutureWarning: The frame.append method is deprecated and will be removed from pandas in a future version. Use pandas.concat instead.\n",
      "  df = df.append(d, ignore_index = True)\n",
      "/var/folders/lh/cqpxzpsx44zdjqktqsfb722m0000gn/T/ipykernel_72719/3530480628.py:16: FutureWarning: The frame.append method is deprecated and will be removed from pandas in a future version. Use pandas.concat instead.\n",
      "  df = df.append(d, ignore_index = True)\n",
      "/var/folders/lh/cqpxzpsx44zdjqktqsfb722m0000gn/T/ipykernel_72719/3530480628.py:16: FutureWarning: The frame.append method is deprecated and will be removed from pandas in a future version. Use pandas.concat instead.\n",
      "  df = df.append(d, ignore_index = True)\n",
      "/var/folders/lh/cqpxzpsx44zdjqktqsfb722m0000gn/T/ipykernel_72719/3530480628.py:16: FutureWarning: The frame.append method is deprecated and will be removed from pandas in a future version. Use pandas.concat instead.\n",
      "  df = df.append(d, ignore_index = True)\n",
      "/var/folders/lh/cqpxzpsx44zdjqktqsfb722m0000gn/T/ipykernel_72719/3530480628.py:16: FutureWarning: The frame.append method is deprecated and will be removed from pandas in a future version. Use pandas.concat instead.\n",
      "  df = df.append(d, ignore_index = True)\n",
      "/var/folders/lh/cqpxzpsx44zdjqktqsfb722m0000gn/T/ipykernel_72719/3530480628.py:16: FutureWarning: The frame.append method is deprecated and will be removed from pandas in a future version. Use pandas.concat instead.\n",
      "  df = df.append(d, ignore_index = True)\n",
      "/var/folders/lh/cqpxzpsx44zdjqktqsfb722m0000gn/T/ipykernel_72719/3530480628.py:16: FutureWarning: The frame.append method is deprecated and will be removed from pandas in a future version. Use pandas.concat instead.\n",
      "  df = df.append(d, ignore_index = True)\n",
      "/var/folders/lh/cqpxzpsx44zdjqktqsfb722m0000gn/T/ipykernel_72719/3530480628.py:16: FutureWarning: The frame.append method is deprecated and will be removed from pandas in a future version. Use pandas.concat instead.\n",
      "  df = df.append(d, ignore_index = True)\n",
      "/var/folders/lh/cqpxzpsx44zdjqktqsfb722m0000gn/T/ipykernel_72719/3530480628.py:16: FutureWarning: The frame.append method is deprecated and will be removed from pandas in a future version. Use pandas.concat instead.\n",
      "  df = df.append(d, ignore_index = True)\n",
      "/var/folders/lh/cqpxzpsx44zdjqktqsfb722m0000gn/T/ipykernel_72719/3530480628.py:16: FutureWarning: The frame.append method is deprecated and will be removed from pandas in a future version. Use pandas.concat instead.\n",
      "  df = df.append(d, ignore_index = True)\n",
      "/var/folders/lh/cqpxzpsx44zdjqktqsfb722m0000gn/T/ipykernel_72719/3530480628.py:16: FutureWarning: The frame.append method is deprecated and will be removed from pandas in a future version. Use pandas.concat instead.\n",
      "  df = df.append(d, ignore_index = True)\n",
      "/var/folders/lh/cqpxzpsx44zdjqktqsfb722m0000gn/T/ipykernel_72719/3530480628.py:16: FutureWarning: The frame.append method is deprecated and will be removed from pandas in a future version. Use pandas.concat instead.\n",
      "  df = df.append(d, ignore_index = True)\n",
      "/var/folders/lh/cqpxzpsx44zdjqktqsfb722m0000gn/T/ipykernel_72719/3530480628.py:16: FutureWarning: The frame.append method is deprecated and will be removed from pandas in a future version. Use pandas.concat instead.\n",
      "  df = df.append(d, ignore_index = True)\n",
      "/var/folders/lh/cqpxzpsx44zdjqktqsfb722m0000gn/T/ipykernel_72719/3530480628.py:16: FutureWarning: The frame.append method is deprecated and will be removed from pandas in a future version. Use pandas.concat instead.\n",
      "  df = df.append(d, ignore_index = True)\n",
      "/var/folders/lh/cqpxzpsx44zdjqktqsfb722m0000gn/T/ipykernel_72719/3530480628.py:16: FutureWarning: The frame.append method is deprecated and will be removed from pandas in a future version. Use pandas.concat instead.\n",
      "  df = df.append(d, ignore_index = True)\n",
      "/var/folders/lh/cqpxzpsx44zdjqktqsfb722m0000gn/T/ipykernel_72719/3530480628.py:16: FutureWarning: The frame.append method is deprecated and will be removed from pandas in a future version. Use pandas.concat instead.\n",
      "  df = df.append(d, ignore_index = True)\n",
      "/var/folders/lh/cqpxzpsx44zdjqktqsfb722m0000gn/T/ipykernel_72719/3530480628.py:16: FutureWarning: The frame.append method is deprecated and will be removed from pandas in a future version. Use pandas.concat instead.\n",
      "  df = df.append(d, ignore_index = True)\n",
      "/var/folders/lh/cqpxzpsx44zdjqktqsfb722m0000gn/T/ipykernel_72719/3530480628.py:16: FutureWarning: The frame.append method is deprecated and will be removed from pandas in a future version. Use pandas.concat instead.\n",
      "  df = df.append(d, ignore_index = True)\n",
      "/var/folders/lh/cqpxzpsx44zdjqktqsfb722m0000gn/T/ipykernel_72719/3530480628.py:16: FutureWarning: The frame.append method is deprecated and will be removed from pandas in a future version. Use pandas.concat instead.\n",
      "  df = df.append(d, ignore_index = True)\n",
      "/var/folders/lh/cqpxzpsx44zdjqktqsfb722m0000gn/T/ipykernel_72719/3530480628.py:16: FutureWarning: The frame.append method is deprecated and will be removed from pandas in a future version. Use pandas.concat instead.\n",
      "  df = df.append(d, ignore_index = True)\n",
      "/var/folders/lh/cqpxzpsx44zdjqktqsfb722m0000gn/T/ipykernel_72719/3530480628.py:16: FutureWarning: The frame.append method is deprecated and will be removed from pandas in a future version. Use pandas.concat instead.\n",
      "  df = df.append(d, ignore_index = True)\n",
      "/var/folders/lh/cqpxzpsx44zdjqktqsfb722m0000gn/T/ipykernel_72719/3530480628.py:16: FutureWarning: The frame.append method is deprecated and will be removed from pandas in a future version. Use pandas.concat instead.\n",
      "  df = df.append(d, ignore_index = True)\n",
      "/var/folders/lh/cqpxzpsx44zdjqktqsfb722m0000gn/T/ipykernel_72719/3530480628.py:16: FutureWarning: The frame.append method is deprecated and will be removed from pandas in a future version. Use pandas.concat instead.\n",
      "  df = df.append(d, ignore_index = True)\n",
      "/var/folders/lh/cqpxzpsx44zdjqktqsfb722m0000gn/T/ipykernel_72719/3530480628.py:16: FutureWarning: The frame.append method is deprecated and will be removed from pandas in a future version. Use pandas.concat instead.\n",
      "  df = df.append(d, ignore_index = True)\n",
      "/var/folders/lh/cqpxzpsx44zdjqktqsfb722m0000gn/T/ipykernel_72719/3530480628.py:16: FutureWarning: The frame.append method is deprecated and will be removed from pandas in a future version. Use pandas.concat instead.\n",
      "  df = df.append(d, ignore_index = True)\n",
      "/var/folders/lh/cqpxzpsx44zdjqktqsfb722m0000gn/T/ipykernel_72719/3530480628.py:16: FutureWarning: The frame.append method is deprecated and will be removed from pandas in a future version. Use pandas.concat instead.\n",
      "  df = df.append(d, ignore_index = True)\n",
      "/var/folders/lh/cqpxzpsx44zdjqktqsfb722m0000gn/T/ipykernel_72719/3530480628.py:16: FutureWarning: The frame.append method is deprecated and will be removed from pandas in a future version. Use pandas.concat instead.\n",
      "  df = df.append(d, ignore_index = True)\n",
      "/var/folders/lh/cqpxzpsx44zdjqktqsfb722m0000gn/T/ipykernel_72719/3530480628.py:16: FutureWarning: The frame.append method is deprecated and will be removed from pandas in a future version. Use pandas.concat instead.\n",
      "  df = df.append(d, ignore_index = True)\n",
      "/var/folders/lh/cqpxzpsx44zdjqktqsfb722m0000gn/T/ipykernel_72719/3530480628.py:16: FutureWarning: The frame.append method is deprecated and will be removed from pandas in a future version. Use pandas.concat instead.\n",
      "  df = df.append(d, ignore_index = True)\n",
      "/var/folders/lh/cqpxzpsx44zdjqktqsfb722m0000gn/T/ipykernel_72719/3530480628.py:16: FutureWarning: The frame.append method is deprecated and will be removed from pandas in a future version. Use pandas.concat instead.\n",
      "  df = df.append(d, ignore_index = True)\n",
      "/var/folders/lh/cqpxzpsx44zdjqktqsfb722m0000gn/T/ipykernel_72719/3530480628.py:16: FutureWarning: The frame.append method is deprecated and will be removed from pandas in a future version. Use pandas.concat instead.\n",
      "  df = df.append(d, ignore_index = True)\n",
      "/var/folders/lh/cqpxzpsx44zdjqktqsfb722m0000gn/T/ipykernel_72719/3530480628.py:16: FutureWarning: The frame.append method is deprecated and will be removed from pandas in a future version. Use pandas.concat instead.\n",
      "  df = df.append(d, ignore_index = True)\n",
      "/var/folders/lh/cqpxzpsx44zdjqktqsfb722m0000gn/T/ipykernel_72719/3530480628.py:16: FutureWarning: The frame.append method is deprecated and will be removed from pandas in a future version. Use pandas.concat instead.\n",
      "  df = df.append(d, ignore_index = True)\n",
      "/var/folders/lh/cqpxzpsx44zdjqktqsfb722m0000gn/T/ipykernel_72719/3530480628.py:16: FutureWarning: The frame.append method is deprecated and will be removed from pandas in a future version. Use pandas.concat instead.\n",
      "  df = df.append(d, ignore_index = True)\n",
      "/var/folders/lh/cqpxzpsx44zdjqktqsfb722m0000gn/T/ipykernel_72719/3530480628.py:16: FutureWarning: The frame.append method is deprecated and will be removed from pandas in a future version. Use pandas.concat instead.\n",
      "  df = df.append(d, ignore_index = True)\n",
      "/var/folders/lh/cqpxzpsx44zdjqktqsfb722m0000gn/T/ipykernel_72719/3530480628.py:16: FutureWarning: The frame.append method is deprecated and will be removed from pandas in a future version. Use pandas.concat instead.\n",
      "  df = df.append(d, ignore_index = True)\n",
      "/var/folders/lh/cqpxzpsx44zdjqktqsfb722m0000gn/T/ipykernel_72719/3530480628.py:16: FutureWarning: The frame.append method is deprecated and will be removed from pandas in a future version. Use pandas.concat instead.\n",
      "  df = df.append(d, ignore_index = True)\n",
      "/var/folders/lh/cqpxzpsx44zdjqktqsfb722m0000gn/T/ipykernel_72719/3530480628.py:16: FutureWarning: The frame.append method is deprecated and will be removed from pandas in a future version. Use pandas.concat instead.\n",
      "  df = df.append(d, ignore_index = True)\n",
      "/var/folders/lh/cqpxzpsx44zdjqktqsfb722m0000gn/T/ipykernel_72719/3530480628.py:16: FutureWarning: The frame.append method is deprecated and will be removed from pandas in a future version. Use pandas.concat instead.\n",
      "  df = df.append(d, ignore_index = True)\n",
      "/var/folders/lh/cqpxzpsx44zdjqktqsfb722m0000gn/T/ipykernel_72719/3530480628.py:16: FutureWarning: The frame.append method is deprecated and will be removed from pandas in a future version. Use pandas.concat instead.\n",
      "  df = df.append(d, ignore_index = True)\n",
      "/var/folders/lh/cqpxzpsx44zdjqktqsfb722m0000gn/T/ipykernel_72719/3530480628.py:16: FutureWarning: The frame.append method is deprecated and will be removed from pandas in a future version. Use pandas.concat instead.\n",
      "  df = df.append(d, ignore_index = True)\n",
      "/var/folders/lh/cqpxzpsx44zdjqktqsfb722m0000gn/T/ipykernel_72719/3530480628.py:16: FutureWarning: The frame.append method is deprecated and will be removed from pandas in a future version. Use pandas.concat instead.\n",
      "  df = df.append(d, ignore_index = True)\n",
      "/var/folders/lh/cqpxzpsx44zdjqktqsfb722m0000gn/T/ipykernel_72719/3530480628.py:16: FutureWarning: The frame.append method is deprecated and will be removed from pandas in a future version. Use pandas.concat instead.\n",
      "  df = df.append(d, ignore_index = True)\n",
      "/var/folders/lh/cqpxzpsx44zdjqktqsfb722m0000gn/T/ipykernel_72719/3530480628.py:16: FutureWarning: The frame.append method is deprecated and will be removed from pandas in a future version. Use pandas.concat instead.\n",
      "  df = df.append(d, ignore_index = True)\n",
      "/var/folders/lh/cqpxzpsx44zdjqktqsfb722m0000gn/T/ipykernel_72719/3530480628.py:16: FutureWarning: The frame.append method is deprecated and will be removed from pandas in a future version. Use pandas.concat instead.\n",
      "  df = df.append(d, ignore_index = True)\n",
      "/var/folders/lh/cqpxzpsx44zdjqktqsfb722m0000gn/T/ipykernel_72719/3530480628.py:16: FutureWarning: The frame.append method is deprecated and will be removed from pandas in a future version. Use pandas.concat instead.\n",
      "  df = df.append(d, ignore_index = True)\n",
      "/var/folders/lh/cqpxzpsx44zdjqktqsfb722m0000gn/T/ipykernel_72719/3530480628.py:16: FutureWarning: The frame.append method is deprecated and will be removed from pandas in a future version. Use pandas.concat instead.\n",
      "  df = df.append(d, ignore_index = True)\n",
      "/var/folders/lh/cqpxzpsx44zdjqktqsfb722m0000gn/T/ipykernel_72719/3530480628.py:16: FutureWarning: The frame.append method is deprecated and will be removed from pandas in a future version. Use pandas.concat instead.\n",
      "  df = df.append(d, ignore_index = True)\n",
      "/var/folders/lh/cqpxzpsx44zdjqktqsfb722m0000gn/T/ipykernel_72719/3530480628.py:16: FutureWarning: The frame.append method is deprecated and will be removed from pandas in a future version. Use pandas.concat instead.\n",
      "  df = df.append(d, ignore_index = True)\n",
      "/var/folders/lh/cqpxzpsx44zdjqktqsfb722m0000gn/T/ipykernel_72719/3530480628.py:16: FutureWarning: The frame.append method is deprecated and will be removed from pandas in a future version. Use pandas.concat instead.\n",
      "  df = df.append(d, ignore_index = True)\n",
      "/var/folders/lh/cqpxzpsx44zdjqktqsfb722m0000gn/T/ipykernel_72719/3530480628.py:16: FutureWarning: The frame.append method is deprecated and will be removed from pandas in a future version. Use pandas.concat instead.\n",
      "  df = df.append(d, ignore_index = True)\n",
      "/var/folders/lh/cqpxzpsx44zdjqktqsfb722m0000gn/T/ipykernel_72719/3530480628.py:16: FutureWarning: The frame.append method is deprecated and will be removed from pandas in a future version. Use pandas.concat instead.\n",
      "  df = df.append(d, ignore_index = True)\n",
      "/var/folders/lh/cqpxzpsx44zdjqktqsfb722m0000gn/T/ipykernel_72719/3530480628.py:16: FutureWarning: The frame.append method is deprecated and will be removed from pandas in a future version. Use pandas.concat instead.\n",
      "  df = df.append(d, ignore_index = True)\n",
      "/var/folders/lh/cqpxzpsx44zdjqktqsfb722m0000gn/T/ipykernel_72719/3530480628.py:16: FutureWarning: The frame.append method is deprecated and will be removed from pandas in a future version. Use pandas.concat instead.\n",
      "  df = df.append(d, ignore_index = True)\n",
      "/var/folders/lh/cqpxzpsx44zdjqktqsfb722m0000gn/T/ipykernel_72719/3530480628.py:16: FutureWarning: The frame.append method is deprecated and will be removed from pandas in a future version. Use pandas.concat instead.\n",
      "  df = df.append(d, ignore_index = True)\n",
      "/var/folders/lh/cqpxzpsx44zdjqktqsfb722m0000gn/T/ipykernel_72719/3530480628.py:16: FutureWarning: The frame.append method is deprecated and will be removed from pandas in a future version. Use pandas.concat instead.\n",
      "  df = df.append(d, ignore_index = True)\n",
      "/var/folders/lh/cqpxzpsx44zdjqktqsfb722m0000gn/T/ipykernel_72719/3530480628.py:16: FutureWarning: The frame.append method is deprecated and will be removed from pandas in a future version. Use pandas.concat instead.\n",
      "  df = df.append(d, ignore_index = True)\n",
      "/var/folders/lh/cqpxzpsx44zdjqktqsfb722m0000gn/T/ipykernel_72719/3530480628.py:16: FutureWarning: The frame.append method is deprecated and will be removed from pandas in a future version. Use pandas.concat instead.\n",
      "  df = df.append(d, ignore_index = True)\n",
      "/var/folders/lh/cqpxzpsx44zdjqktqsfb722m0000gn/T/ipykernel_72719/3530480628.py:16: FutureWarning: The frame.append method is deprecated and will be removed from pandas in a future version. Use pandas.concat instead.\n",
      "  df = df.append(d, ignore_index = True)\n",
      "/var/folders/lh/cqpxzpsx44zdjqktqsfb722m0000gn/T/ipykernel_72719/3530480628.py:16: FutureWarning: The frame.append method is deprecated and will be removed from pandas in a future version. Use pandas.concat instead.\n",
      "  df = df.append(d, ignore_index = True)\n",
      "/var/folders/lh/cqpxzpsx44zdjqktqsfb722m0000gn/T/ipykernel_72719/3530480628.py:16: FutureWarning: The frame.append method is deprecated and will be removed from pandas in a future version. Use pandas.concat instead.\n",
      "  df = df.append(d, ignore_index = True)\n",
      "/var/folders/lh/cqpxzpsx44zdjqktqsfb722m0000gn/T/ipykernel_72719/3530480628.py:16: FutureWarning: The frame.append method is deprecated and will be removed from pandas in a future version. Use pandas.concat instead.\n",
      "  df = df.append(d, ignore_index = True)\n",
      "/var/folders/lh/cqpxzpsx44zdjqktqsfb722m0000gn/T/ipykernel_72719/3530480628.py:16: FutureWarning: The frame.append method is deprecated and will be removed from pandas in a future version. Use pandas.concat instead.\n",
      "  df = df.append(d, ignore_index = True)\n",
      "/var/folders/lh/cqpxzpsx44zdjqktqsfb722m0000gn/T/ipykernel_72719/3530480628.py:16: FutureWarning: The frame.append method is deprecated and will be removed from pandas in a future version. Use pandas.concat instead.\n",
      "  df = df.append(d, ignore_index = True)\n",
      "/var/folders/lh/cqpxzpsx44zdjqktqsfb722m0000gn/T/ipykernel_72719/3530480628.py:16: FutureWarning: The frame.append method is deprecated and will be removed from pandas in a future version. Use pandas.concat instead.\n",
      "  df = df.append(d, ignore_index = True)\n",
      "/var/folders/lh/cqpxzpsx44zdjqktqsfb722m0000gn/T/ipykernel_72719/3530480628.py:16: FutureWarning: The frame.append method is deprecated and will be removed from pandas in a future version. Use pandas.concat instead.\n",
      "  df = df.append(d, ignore_index = True)\n",
      "/var/folders/lh/cqpxzpsx44zdjqktqsfb722m0000gn/T/ipykernel_72719/3530480628.py:16: FutureWarning: The frame.append method is deprecated and will be removed from pandas in a future version. Use pandas.concat instead.\n",
      "  df = df.append(d, ignore_index = True)\n",
      "/var/folders/lh/cqpxzpsx44zdjqktqsfb722m0000gn/T/ipykernel_72719/3530480628.py:16: FutureWarning: The frame.append method is deprecated and will be removed from pandas in a future version. Use pandas.concat instead.\n",
      "  df = df.append(d, ignore_index = True)\n",
      "/var/folders/lh/cqpxzpsx44zdjqktqsfb722m0000gn/T/ipykernel_72719/3530480628.py:16: FutureWarning: The frame.append method is deprecated and will be removed from pandas in a future version. Use pandas.concat instead.\n",
      "  df = df.append(d, ignore_index = True)\n",
      "/var/folders/lh/cqpxzpsx44zdjqktqsfb722m0000gn/T/ipykernel_72719/3530480628.py:16: FutureWarning: The frame.append method is deprecated and will be removed from pandas in a future version. Use pandas.concat instead.\n",
      "  df = df.append(d, ignore_index = True)\n",
      "/var/folders/lh/cqpxzpsx44zdjqktqsfb722m0000gn/T/ipykernel_72719/3530480628.py:16: FutureWarning: The frame.append method is deprecated and will be removed from pandas in a future version. Use pandas.concat instead.\n",
      "  df = df.append(d, ignore_index = True)\n",
      "/var/folders/lh/cqpxzpsx44zdjqktqsfb722m0000gn/T/ipykernel_72719/3530480628.py:16: FutureWarning: The frame.append method is deprecated and will be removed from pandas in a future version. Use pandas.concat instead.\n",
      "  df = df.append(d, ignore_index = True)\n",
      "/var/folders/lh/cqpxzpsx44zdjqktqsfb722m0000gn/T/ipykernel_72719/3530480628.py:16: FutureWarning: The frame.append method is deprecated and will be removed from pandas in a future version. Use pandas.concat instead.\n",
      "  df = df.append(d, ignore_index = True)\n",
      "/var/folders/lh/cqpxzpsx44zdjqktqsfb722m0000gn/T/ipykernel_72719/3530480628.py:16: FutureWarning: The frame.append method is deprecated and will be removed from pandas in a future version. Use pandas.concat instead.\n",
      "  df = df.append(d, ignore_index = True)\n",
      "/var/folders/lh/cqpxzpsx44zdjqktqsfb722m0000gn/T/ipykernel_72719/3530480628.py:16: FutureWarning: The frame.append method is deprecated and will be removed from pandas in a future version. Use pandas.concat instead.\n",
      "  df = df.append(d, ignore_index = True)\n",
      "/var/folders/lh/cqpxzpsx44zdjqktqsfb722m0000gn/T/ipykernel_72719/3530480628.py:16: FutureWarning: The frame.append method is deprecated and will be removed from pandas in a future version. Use pandas.concat instead.\n",
      "  df = df.append(d, ignore_index = True)\n",
      "/var/folders/lh/cqpxzpsx44zdjqktqsfb722m0000gn/T/ipykernel_72719/3530480628.py:16: FutureWarning: The frame.append method is deprecated and will be removed from pandas in a future version. Use pandas.concat instead.\n",
      "  df = df.append(d, ignore_index = True)\n",
      "/var/folders/lh/cqpxzpsx44zdjqktqsfb722m0000gn/T/ipykernel_72719/3530480628.py:16: FutureWarning: The frame.append method is deprecated and will be removed from pandas in a future version. Use pandas.concat instead.\n",
      "  df = df.append(d, ignore_index = True)\n",
      "/var/folders/lh/cqpxzpsx44zdjqktqsfb722m0000gn/T/ipykernel_72719/3530480628.py:16: FutureWarning: The frame.append method is deprecated and will be removed from pandas in a future version. Use pandas.concat instead.\n",
      "  df = df.append(d, ignore_index = True)\n",
      "/var/folders/lh/cqpxzpsx44zdjqktqsfb722m0000gn/T/ipykernel_72719/3530480628.py:16: FutureWarning: The frame.append method is deprecated and will be removed from pandas in a future version. Use pandas.concat instead.\n",
      "  df = df.append(d, ignore_index = True)\n",
      "/var/folders/lh/cqpxzpsx44zdjqktqsfb722m0000gn/T/ipykernel_72719/3530480628.py:16: FutureWarning: The frame.append method is deprecated and will be removed from pandas in a future version. Use pandas.concat instead.\n",
      "  df = df.append(d, ignore_index = True)\n",
      "/var/folders/lh/cqpxzpsx44zdjqktqsfb722m0000gn/T/ipykernel_72719/3530480628.py:16: FutureWarning: The frame.append method is deprecated and will be removed from pandas in a future version. Use pandas.concat instead.\n",
      "  df = df.append(d, ignore_index = True)\n",
      "/var/folders/lh/cqpxzpsx44zdjqktqsfb722m0000gn/T/ipykernel_72719/3530480628.py:16: FutureWarning: The frame.append method is deprecated and will be removed from pandas in a future version. Use pandas.concat instead.\n",
      "  df = df.append(d, ignore_index = True)\n",
      "/var/folders/lh/cqpxzpsx44zdjqktqsfb722m0000gn/T/ipykernel_72719/3530480628.py:16: FutureWarning: The frame.append method is deprecated and will be removed from pandas in a future version. Use pandas.concat instead.\n",
      "  df = df.append(d, ignore_index = True)\n",
      "/var/folders/lh/cqpxzpsx44zdjqktqsfb722m0000gn/T/ipykernel_72719/3530480628.py:16: FutureWarning: The frame.append method is deprecated and will be removed from pandas in a future version. Use pandas.concat instead.\n",
      "  df = df.append(d, ignore_index = True)\n",
      "/var/folders/lh/cqpxzpsx44zdjqktqsfb722m0000gn/T/ipykernel_72719/3530480628.py:16: FutureWarning: The frame.append method is deprecated and will be removed from pandas in a future version. Use pandas.concat instead.\n",
      "  df = df.append(d, ignore_index = True)\n",
      "/var/folders/lh/cqpxzpsx44zdjqktqsfb722m0000gn/T/ipykernel_72719/3530480628.py:16: FutureWarning: The frame.append method is deprecated and will be removed from pandas in a future version. Use pandas.concat instead.\n",
      "  df = df.append(d, ignore_index = True)\n",
      "/var/folders/lh/cqpxzpsx44zdjqktqsfb722m0000gn/T/ipykernel_72719/3530480628.py:16: FutureWarning: The frame.append method is deprecated and will be removed from pandas in a future version. Use pandas.concat instead.\n",
      "  df = df.append(d, ignore_index = True)\n",
      "/var/folders/lh/cqpxzpsx44zdjqktqsfb722m0000gn/T/ipykernel_72719/3530480628.py:16: FutureWarning: The frame.append method is deprecated and will be removed from pandas in a future version. Use pandas.concat instead.\n",
      "  df = df.append(d, ignore_index = True)\n",
      "/var/folders/lh/cqpxzpsx44zdjqktqsfb722m0000gn/T/ipykernel_72719/3530480628.py:16: FutureWarning: The frame.append method is deprecated and will be removed from pandas in a future version. Use pandas.concat instead.\n",
      "  df = df.append(d, ignore_index = True)\n",
      "/var/folders/lh/cqpxzpsx44zdjqktqsfb722m0000gn/T/ipykernel_72719/3530480628.py:16: FutureWarning: The frame.append method is deprecated and will be removed from pandas in a future version. Use pandas.concat instead.\n",
      "  df = df.append(d, ignore_index = True)\n",
      "/var/folders/lh/cqpxzpsx44zdjqktqsfb722m0000gn/T/ipykernel_72719/3530480628.py:16: FutureWarning: The frame.append method is deprecated and will be removed from pandas in a future version. Use pandas.concat instead.\n",
      "  df = df.append(d, ignore_index = True)\n",
      "/var/folders/lh/cqpxzpsx44zdjqktqsfb722m0000gn/T/ipykernel_72719/3530480628.py:16: FutureWarning: The frame.append method is deprecated and will be removed from pandas in a future version. Use pandas.concat instead.\n",
      "  df = df.append(d, ignore_index = True)\n",
      "/var/folders/lh/cqpxzpsx44zdjqktqsfb722m0000gn/T/ipykernel_72719/3530480628.py:16: FutureWarning: The frame.append method is deprecated and will be removed from pandas in a future version. Use pandas.concat instead.\n",
      "  df = df.append(d, ignore_index = True)\n",
      "/var/folders/lh/cqpxzpsx44zdjqktqsfb722m0000gn/T/ipykernel_72719/3530480628.py:16: FutureWarning: The frame.append method is deprecated and will be removed from pandas in a future version. Use pandas.concat instead.\n",
      "  df = df.append(d, ignore_index = True)\n",
      "/var/folders/lh/cqpxzpsx44zdjqktqsfb722m0000gn/T/ipykernel_72719/3530480628.py:16: FutureWarning: The frame.append method is deprecated and will be removed from pandas in a future version. Use pandas.concat instead.\n",
      "  df = df.append(d, ignore_index = True)\n",
      "/var/folders/lh/cqpxzpsx44zdjqktqsfb722m0000gn/T/ipykernel_72719/3530480628.py:16: FutureWarning: The frame.append method is deprecated and will be removed from pandas in a future version. Use pandas.concat instead.\n",
      "  df = df.append(d, ignore_index = True)\n",
      "/var/folders/lh/cqpxzpsx44zdjqktqsfb722m0000gn/T/ipykernel_72719/3530480628.py:16: FutureWarning: The frame.append method is deprecated and will be removed from pandas in a future version. Use pandas.concat instead.\n",
      "  df = df.append(d, ignore_index = True)\n",
      "/var/folders/lh/cqpxzpsx44zdjqktqsfb722m0000gn/T/ipykernel_72719/3530480628.py:16: FutureWarning: The frame.append method is deprecated and will be removed from pandas in a future version. Use pandas.concat instead.\n",
      "  df = df.append(d, ignore_index = True)\n",
      "/var/folders/lh/cqpxzpsx44zdjqktqsfb722m0000gn/T/ipykernel_72719/3530480628.py:16: FutureWarning: The frame.append method is deprecated and will be removed from pandas in a future version. Use pandas.concat instead.\n",
      "  df = df.append(d, ignore_index = True)\n",
      "/var/folders/lh/cqpxzpsx44zdjqktqsfb722m0000gn/T/ipykernel_72719/3530480628.py:16: FutureWarning: The frame.append method is deprecated and will be removed from pandas in a future version. Use pandas.concat instead.\n",
      "  df = df.append(d, ignore_index = True)\n",
      "/var/folders/lh/cqpxzpsx44zdjqktqsfb722m0000gn/T/ipykernel_72719/3530480628.py:16: FutureWarning: The frame.append method is deprecated and will be removed from pandas in a future version. Use pandas.concat instead.\n",
      "  df = df.append(d, ignore_index = True)\n",
      "/var/folders/lh/cqpxzpsx44zdjqktqsfb722m0000gn/T/ipykernel_72719/3530480628.py:16: FutureWarning: The frame.append method is deprecated and will be removed from pandas in a future version. Use pandas.concat instead.\n",
      "  df = df.append(d, ignore_index = True)\n",
      "/var/folders/lh/cqpxzpsx44zdjqktqsfb722m0000gn/T/ipykernel_72719/3530480628.py:16: FutureWarning: The frame.append method is deprecated and will be removed from pandas in a future version. Use pandas.concat instead.\n",
      "  df = df.append(d, ignore_index = True)\n",
      "/var/folders/lh/cqpxzpsx44zdjqktqsfb722m0000gn/T/ipykernel_72719/3530480628.py:16: FutureWarning: The frame.append method is deprecated and will be removed from pandas in a future version. Use pandas.concat instead.\n",
      "  df = df.append(d, ignore_index = True)\n",
      "/var/folders/lh/cqpxzpsx44zdjqktqsfb722m0000gn/T/ipykernel_72719/3530480628.py:16: FutureWarning: The frame.append method is deprecated and will be removed from pandas in a future version. Use pandas.concat instead.\n",
      "  df = df.append(d, ignore_index = True)\n",
      "/var/folders/lh/cqpxzpsx44zdjqktqsfb722m0000gn/T/ipykernel_72719/3530480628.py:16: FutureWarning: The frame.append method is deprecated and will be removed from pandas in a future version. Use pandas.concat instead.\n",
      "  df = df.append(d, ignore_index = True)\n",
      "/var/folders/lh/cqpxzpsx44zdjqktqsfb722m0000gn/T/ipykernel_72719/3530480628.py:16: FutureWarning: The frame.append method is deprecated and will be removed from pandas in a future version. Use pandas.concat instead.\n",
      "  df = df.append(d, ignore_index = True)\n",
      "/var/folders/lh/cqpxzpsx44zdjqktqsfb722m0000gn/T/ipykernel_72719/3530480628.py:16: FutureWarning: The frame.append method is deprecated and will be removed from pandas in a future version. Use pandas.concat instead.\n",
      "  df = df.append(d, ignore_index = True)\n",
      "/var/folders/lh/cqpxzpsx44zdjqktqsfb722m0000gn/T/ipykernel_72719/3530480628.py:16: FutureWarning: The frame.append method is deprecated and will be removed from pandas in a future version. Use pandas.concat instead.\n",
      "  df = df.append(d, ignore_index = True)\n",
      "/var/folders/lh/cqpxzpsx44zdjqktqsfb722m0000gn/T/ipykernel_72719/3530480628.py:16: FutureWarning: The frame.append method is deprecated and will be removed from pandas in a future version. Use pandas.concat instead.\n",
      "  df = df.append(d, ignore_index = True)\n",
      "/var/folders/lh/cqpxzpsx44zdjqktqsfb722m0000gn/T/ipykernel_72719/3530480628.py:16: FutureWarning: The frame.append method is deprecated and will be removed from pandas in a future version. Use pandas.concat instead.\n",
      "  df = df.append(d, ignore_index = True)\n",
      "/var/folders/lh/cqpxzpsx44zdjqktqsfb722m0000gn/T/ipykernel_72719/3530480628.py:16: FutureWarning: The frame.append method is deprecated and will be removed from pandas in a future version. Use pandas.concat instead.\n",
      "  df = df.append(d, ignore_index = True)\n",
      "/var/folders/lh/cqpxzpsx44zdjqktqsfb722m0000gn/T/ipykernel_72719/3530480628.py:16: FutureWarning: The frame.append method is deprecated and will be removed from pandas in a future version. Use pandas.concat instead.\n",
      "  df = df.append(d, ignore_index = True)\n",
      "/var/folders/lh/cqpxzpsx44zdjqktqsfb722m0000gn/T/ipykernel_72719/3530480628.py:16: FutureWarning: The frame.append method is deprecated and will be removed from pandas in a future version. Use pandas.concat instead.\n",
      "  df = df.append(d, ignore_index = True)\n",
      "/var/folders/lh/cqpxzpsx44zdjqktqsfb722m0000gn/T/ipykernel_72719/3530480628.py:16: FutureWarning: The frame.append method is deprecated and will be removed from pandas in a future version. Use pandas.concat instead.\n",
      "  df = df.append(d, ignore_index = True)\n",
      "/var/folders/lh/cqpxzpsx44zdjqktqsfb722m0000gn/T/ipykernel_72719/3530480628.py:16: FutureWarning: The frame.append method is deprecated and will be removed from pandas in a future version. Use pandas.concat instead.\n",
      "  df = df.append(d, ignore_index = True)\n",
      "/var/folders/lh/cqpxzpsx44zdjqktqsfb722m0000gn/T/ipykernel_72719/3530480628.py:16: FutureWarning: The frame.append method is deprecated and will be removed from pandas in a future version. Use pandas.concat instead.\n",
      "  df = df.append(d, ignore_index = True)\n",
      "/var/folders/lh/cqpxzpsx44zdjqktqsfb722m0000gn/T/ipykernel_72719/3530480628.py:16: FutureWarning: The frame.append method is deprecated and will be removed from pandas in a future version. Use pandas.concat instead.\n",
      "  df = df.append(d, ignore_index = True)\n",
      "/var/folders/lh/cqpxzpsx44zdjqktqsfb722m0000gn/T/ipykernel_72719/3530480628.py:16: FutureWarning: The frame.append method is deprecated and will be removed from pandas in a future version. Use pandas.concat instead.\n",
      "  df = df.append(d, ignore_index = True)\n",
      "/var/folders/lh/cqpxzpsx44zdjqktqsfb722m0000gn/T/ipykernel_72719/3530480628.py:16: FutureWarning: The frame.append method is deprecated and will be removed from pandas in a future version. Use pandas.concat instead.\n",
      "  df = df.append(d, ignore_index = True)\n",
      "/var/folders/lh/cqpxzpsx44zdjqktqsfb722m0000gn/T/ipykernel_72719/3530480628.py:16: FutureWarning: The frame.append method is deprecated and will be removed from pandas in a future version. Use pandas.concat instead.\n",
      "  df = df.append(d, ignore_index = True)\n",
      "/var/folders/lh/cqpxzpsx44zdjqktqsfb722m0000gn/T/ipykernel_72719/3530480628.py:16: FutureWarning: The frame.append method is deprecated and will be removed from pandas in a future version. Use pandas.concat instead.\n",
      "  df = df.append(d, ignore_index = True)\n",
      "/var/folders/lh/cqpxzpsx44zdjqktqsfb722m0000gn/T/ipykernel_72719/3530480628.py:16: FutureWarning: The frame.append method is deprecated and will be removed from pandas in a future version. Use pandas.concat instead.\n",
      "  df = df.append(d, ignore_index = True)\n",
      "/var/folders/lh/cqpxzpsx44zdjqktqsfb722m0000gn/T/ipykernel_72719/3530480628.py:16: FutureWarning: The frame.append method is deprecated and will be removed from pandas in a future version. Use pandas.concat instead.\n",
      "  df = df.append(d, ignore_index = True)\n",
      "/var/folders/lh/cqpxzpsx44zdjqktqsfb722m0000gn/T/ipykernel_72719/3530480628.py:16: FutureWarning: The frame.append method is deprecated and will be removed from pandas in a future version. Use pandas.concat instead.\n",
      "  df = df.append(d, ignore_index = True)\n",
      "/var/folders/lh/cqpxzpsx44zdjqktqsfb722m0000gn/T/ipykernel_72719/3530480628.py:16: FutureWarning: The frame.append method is deprecated and will be removed from pandas in a future version. Use pandas.concat instead.\n",
      "  df = df.append(d, ignore_index = True)\n",
      "/var/folders/lh/cqpxzpsx44zdjqktqsfb722m0000gn/T/ipykernel_72719/3530480628.py:16: FutureWarning: The frame.append method is deprecated and will be removed from pandas in a future version. Use pandas.concat instead.\n",
      "  df = df.append(d, ignore_index = True)\n",
      "/var/folders/lh/cqpxzpsx44zdjqktqsfb722m0000gn/T/ipykernel_72719/3530480628.py:16: FutureWarning: The frame.append method is deprecated and will be removed from pandas in a future version. Use pandas.concat instead.\n",
      "  df = df.append(d, ignore_index = True)\n",
      "/var/folders/lh/cqpxzpsx44zdjqktqsfb722m0000gn/T/ipykernel_72719/3530480628.py:16: FutureWarning: The frame.append method is deprecated and will be removed from pandas in a future version. Use pandas.concat instead.\n",
      "  df = df.append(d, ignore_index = True)\n",
      "/var/folders/lh/cqpxzpsx44zdjqktqsfb722m0000gn/T/ipykernel_72719/3530480628.py:16: FutureWarning: The frame.append method is deprecated and will be removed from pandas in a future version. Use pandas.concat instead.\n",
      "  df = df.append(d, ignore_index = True)\n",
      "/var/folders/lh/cqpxzpsx44zdjqktqsfb722m0000gn/T/ipykernel_72719/3530480628.py:16: FutureWarning: The frame.append method is deprecated and will be removed from pandas in a future version. Use pandas.concat instead.\n",
      "  df = df.append(d, ignore_index = True)\n",
      "/var/folders/lh/cqpxzpsx44zdjqktqsfb722m0000gn/T/ipykernel_72719/3530480628.py:16: FutureWarning: The frame.append method is deprecated and will be removed from pandas in a future version. Use pandas.concat instead.\n",
      "  df = df.append(d, ignore_index = True)\n",
      "/var/folders/lh/cqpxzpsx44zdjqktqsfb722m0000gn/T/ipykernel_72719/3530480628.py:16: FutureWarning: The frame.append method is deprecated and will be removed from pandas in a future version. Use pandas.concat instead.\n",
      "  df = df.append(d, ignore_index = True)\n",
      "/var/folders/lh/cqpxzpsx44zdjqktqsfb722m0000gn/T/ipykernel_72719/3530480628.py:16: FutureWarning: The frame.append method is deprecated and will be removed from pandas in a future version. Use pandas.concat instead.\n",
      "  df = df.append(d, ignore_index = True)\n",
      "/var/folders/lh/cqpxzpsx44zdjqktqsfb722m0000gn/T/ipykernel_72719/3530480628.py:16: FutureWarning: The frame.append method is deprecated and will be removed from pandas in a future version. Use pandas.concat instead.\n",
      "  df = df.append(d, ignore_index = True)\n",
      "/var/folders/lh/cqpxzpsx44zdjqktqsfb722m0000gn/T/ipykernel_72719/3530480628.py:16: FutureWarning: The frame.append method is deprecated and will be removed from pandas in a future version. Use pandas.concat instead.\n",
      "  df = df.append(d, ignore_index = True)\n",
      "/var/folders/lh/cqpxzpsx44zdjqktqsfb722m0000gn/T/ipykernel_72719/3530480628.py:16: FutureWarning: The frame.append method is deprecated and will be removed from pandas in a future version. Use pandas.concat instead.\n",
      "  df = df.append(d, ignore_index = True)\n",
      "/var/folders/lh/cqpxzpsx44zdjqktqsfb722m0000gn/T/ipykernel_72719/3530480628.py:16: FutureWarning: The frame.append method is deprecated and will be removed from pandas in a future version. Use pandas.concat instead.\n",
      "  df = df.append(d, ignore_index = True)\n",
      "/var/folders/lh/cqpxzpsx44zdjqktqsfb722m0000gn/T/ipykernel_72719/3530480628.py:16: FutureWarning: The frame.append method is deprecated and will be removed from pandas in a future version. Use pandas.concat instead.\n",
      "  df = df.append(d, ignore_index = True)\n",
      "/var/folders/lh/cqpxzpsx44zdjqktqsfb722m0000gn/T/ipykernel_72719/3530480628.py:16: FutureWarning: The frame.append method is deprecated and will be removed from pandas in a future version. Use pandas.concat instead.\n",
      "  df = df.append(d, ignore_index = True)\n",
      "/var/folders/lh/cqpxzpsx44zdjqktqsfb722m0000gn/T/ipykernel_72719/3530480628.py:16: FutureWarning: The frame.append method is deprecated and will be removed from pandas in a future version. Use pandas.concat instead.\n",
      "  df = df.append(d, ignore_index = True)\n",
      "/var/folders/lh/cqpxzpsx44zdjqktqsfb722m0000gn/T/ipykernel_72719/3530480628.py:16: FutureWarning: The frame.append method is deprecated and will be removed from pandas in a future version. Use pandas.concat instead.\n",
      "  df = df.append(d, ignore_index = True)\n",
      "/var/folders/lh/cqpxzpsx44zdjqktqsfb722m0000gn/T/ipykernel_72719/3530480628.py:16: FutureWarning: The frame.append method is deprecated and will be removed from pandas in a future version. Use pandas.concat instead.\n",
      "  df = df.append(d, ignore_index = True)\n",
      "/var/folders/lh/cqpxzpsx44zdjqktqsfb722m0000gn/T/ipykernel_72719/3530480628.py:16: FutureWarning: The frame.append method is deprecated and will be removed from pandas in a future version. Use pandas.concat instead.\n",
      "  df = df.append(d, ignore_index = True)\n",
      "/var/folders/lh/cqpxzpsx44zdjqktqsfb722m0000gn/T/ipykernel_72719/3530480628.py:16: FutureWarning: The frame.append method is deprecated and will be removed from pandas in a future version. Use pandas.concat instead.\n",
      "  df = df.append(d, ignore_index = True)\n",
      "/var/folders/lh/cqpxzpsx44zdjqktqsfb722m0000gn/T/ipykernel_72719/3530480628.py:16: FutureWarning: The frame.append method is deprecated and will be removed from pandas in a future version. Use pandas.concat instead.\n",
      "  df = df.append(d, ignore_index = True)\n",
      "/var/folders/lh/cqpxzpsx44zdjqktqsfb722m0000gn/T/ipykernel_72719/3530480628.py:16: FutureWarning: The frame.append method is deprecated and will be removed from pandas in a future version. Use pandas.concat instead.\n",
      "  df = df.append(d, ignore_index = True)\n",
      "/var/folders/lh/cqpxzpsx44zdjqktqsfb722m0000gn/T/ipykernel_72719/3530480628.py:16: FutureWarning: The frame.append method is deprecated and will be removed from pandas in a future version. Use pandas.concat instead.\n",
      "  df = df.append(d, ignore_index = True)\n",
      "/var/folders/lh/cqpxzpsx44zdjqktqsfb722m0000gn/T/ipykernel_72719/3530480628.py:16: FutureWarning: The frame.append method is deprecated and will be removed from pandas in a future version. Use pandas.concat instead.\n",
      "  df = df.append(d, ignore_index = True)\n",
      "/var/folders/lh/cqpxzpsx44zdjqktqsfb722m0000gn/T/ipykernel_72719/3530480628.py:16: FutureWarning: The frame.append method is deprecated and will be removed from pandas in a future version. Use pandas.concat instead.\n",
      "  df = df.append(d, ignore_index = True)\n",
      "/var/folders/lh/cqpxzpsx44zdjqktqsfb722m0000gn/T/ipykernel_72719/3530480628.py:16: FutureWarning: The frame.append method is deprecated and will be removed from pandas in a future version. Use pandas.concat instead.\n",
      "  df = df.append(d, ignore_index = True)\n",
      "/var/folders/lh/cqpxzpsx44zdjqktqsfb722m0000gn/T/ipykernel_72719/3530480628.py:16: FutureWarning: The frame.append method is deprecated and will be removed from pandas in a future version. Use pandas.concat instead.\n",
      "  df = df.append(d, ignore_index = True)\n",
      "/var/folders/lh/cqpxzpsx44zdjqktqsfb722m0000gn/T/ipykernel_72719/3530480628.py:16: FutureWarning: The frame.append method is deprecated and will be removed from pandas in a future version. Use pandas.concat instead.\n",
      "  df = df.append(d, ignore_index = True)\n",
      "/var/folders/lh/cqpxzpsx44zdjqktqsfb722m0000gn/T/ipykernel_72719/3530480628.py:16: FutureWarning: The frame.append method is deprecated and will be removed from pandas in a future version. Use pandas.concat instead.\n",
      "  df = df.append(d, ignore_index = True)\n",
      "/var/folders/lh/cqpxzpsx44zdjqktqsfb722m0000gn/T/ipykernel_72719/3530480628.py:16: FutureWarning: The frame.append method is deprecated and will be removed from pandas in a future version. Use pandas.concat instead.\n",
      "  df = df.append(d, ignore_index = True)\n",
      "/var/folders/lh/cqpxzpsx44zdjqktqsfb722m0000gn/T/ipykernel_72719/3530480628.py:16: FutureWarning: The frame.append method is deprecated and will be removed from pandas in a future version. Use pandas.concat instead.\n",
      "  df = df.append(d, ignore_index = True)\n",
      "/var/folders/lh/cqpxzpsx44zdjqktqsfb722m0000gn/T/ipykernel_72719/3530480628.py:16: FutureWarning: The frame.append method is deprecated and will be removed from pandas in a future version. Use pandas.concat instead.\n",
      "  df = df.append(d, ignore_index = True)\n",
      "/var/folders/lh/cqpxzpsx44zdjqktqsfb722m0000gn/T/ipykernel_72719/3530480628.py:16: FutureWarning: The frame.append method is deprecated and will be removed from pandas in a future version. Use pandas.concat instead.\n",
      "  df = df.append(d, ignore_index = True)\n",
      "/var/folders/lh/cqpxzpsx44zdjqktqsfb722m0000gn/T/ipykernel_72719/3530480628.py:16: FutureWarning: The frame.append method is deprecated and will be removed from pandas in a future version. Use pandas.concat instead.\n",
      "  df = df.append(d, ignore_index = True)\n",
      "/var/folders/lh/cqpxzpsx44zdjqktqsfb722m0000gn/T/ipykernel_72719/3530480628.py:16: FutureWarning: The frame.append method is deprecated and will be removed from pandas in a future version. Use pandas.concat instead.\n",
      "  df = df.append(d, ignore_index = True)\n",
      "/var/folders/lh/cqpxzpsx44zdjqktqsfb722m0000gn/T/ipykernel_72719/3530480628.py:16: FutureWarning: The frame.append method is deprecated and will be removed from pandas in a future version. Use pandas.concat instead.\n",
      "  df = df.append(d, ignore_index = True)\n",
      "/var/folders/lh/cqpxzpsx44zdjqktqsfb722m0000gn/T/ipykernel_72719/3530480628.py:16: FutureWarning: The frame.append method is deprecated and will be removed from pandas in a future version. Use pandas.concat instead.\n",
      "  df = df.append(d, ignore_index = True)\n",
      "/var/folders/lh/cqpxzpsx44zdjqktqsfb722m0000gn/T/ipykernel_72719/3530480628.py:16: FutureWarning: The frame.append method is deprecated and will be removed from pandas in a future version. Use pandas.concat instead.\n",
      "  df = df.append(d, ignore_index = True)\n",
      "/var/folders/lh/cqpxzpsx44zdjqktqsfb722m0000gn/T/ipykernel_72719/3530480628.py:16: FutureWarning: The frame.append method is deprecated and will be removed from pandas in a future version. Use pandas.concat instead.\n",
      "  df = df.append(d, ignore_index = True)\n",
      "/var/folders/lh/cqpxzpsx44zdjqktqsfb722m0000gn/T/ipykernel_72719/3530480628.py:16: FutureWarning: The frame.append method is deprecated and will be removed from pandas in a future version. Use pandas.concat instead.\n",
      "  df = df.append(d, ignore_index = True)\n",
      "/var/folders/lh/cqpxzpsx44zdjqktqsfb722m0000gn/T/ipykernel_72719/3530480628.py:16: FutureWarning: The frame.append method is deprecated and will be removed from pandas in a future version. Use pandas.concat instead.\n",
      "  df = df.append(d, ignore_index = True)\n",
      "/var/folders/lh/cqpxzpsx44zdjqktqsfb722m0000gn/T/ipykernel_72719/3530480628.py:16: FutureWarning: The frame.append method is deprecated and will be removed from pandas in a future version. Use pandas.concat instead.\n",
      "  df = df.append(d, ignore_index = True)\n",
      "/var/folders/lh/cqpxzpsx44zdjqktqsfb722m0000gn/T/ipykernel_72719/3530480628.py:16: FutureWarning: The frame.append method is deprecated and will be removed from pandas in a future version. Use pandas.concat instead.\n",
      "  df = df.append(d, ignore_index = True)\n",
      "/var/folders/lh/cqpxzpsx44zdjqktqsfb722m0000gn/T/ipykernel_72719/3530480628.py:16: FutureWarning: The frame.append method is deprecated and will be removed from pandas in a future version. Use pandas.concat instead.\n",
      "  df = df.append(d, ignore_index = True)\n",
      "/var/folders/lh/cqpxzpsx44zdjqktqsfb722m0000gn/T/ipykernel_72719/3530480628.py:16: FutureWarning: The frame.append method is deprecated and will be removed from pandas in a future version. Use pandas.concat instead.\n",
      "  df = df.append(d, ignore_index = True)\n",
      "/var/folders/lh/cqpxzpsx44zdjqktqsfb722m0000gn/T/ipykernel_72719/3530480628.py:16: FutureWarning: The frame.append method is deprecated and will be removed from pandas in a future version. Use pandas.concat instead.\n",
      "  df = df.append(d, ignore_index = True)\n",
      "/var/folders/lh/cqpxzpsx44zdjqktqsfb722m0000gn/T/ipykernel_72719/3530480628.py:16: FutureWarning: The frame.append method is deprecated and will be removed from pandas in a future version. Use pandas.concat instead.\n",
      "  df = df.append(d, ignore_index = True)\n",
      "/var/folders/lh/cqpxzpsx44zdjqktqsfb722m0000gn/T/ipykernel_72719/3530480628.py:16: FutureWarning: The frame.append method is deprecated and will be removed from pandas in a future version. Use pandas.concat instead.\n",
      "  df = df.append(d, ignore_index = True)\n",
      "/var/folders/lh/cqpxzpsx44zdjqktqsfb722m0000gn/T/ipykernel_72719/3530480628.py:16: FutureWarning: The frame.append method is deprecated and will be removed from pandas in a future version. Use pandas.concat instead.\n",
      "  df = df.append(d, ignore_index = True)\n",
      "/var/folders/lh/cqpxzpsx44zdjqktqsfb722m0000gn/T/ipykernel_72719/3530480628.py:16: FutureWarning: The frame.append method is deprecated and will be removed from pandas in a future version. Use pandas.concat instead.\n",
      "  df = df.append(d, ignore_index = True)\n",
      "/var/folders/lh/cqpxzpsx44zdjqktqsfb722m0000gn/T/ipykernel_72719/3530480628.py:16: FutureWarning: The frame.append method is deprecated and will be removed from pandas in a future version. Use pandas.concat instead.\n",
      "  df = df.append(d, ignore_index = True)\n",
      "/var/folders/lh/cqpxzpsx44zdjqktqsfb722m0000gn/T/ipykernel_72719/3530480628.py:16: FutureWarning: The frame.append method is deprecated and will be removed from pandas in a future version. Use pandas.concat instead.\n",
      "  df = df.append(d, ignore_index = True)\n",
      "/var/folders/lh/cqpxzpsx44zdjqktqsfb722m0000gn/T/ipykernel_72719/3530480628.py:16: FutureWarning: The frame.append method is deprecated and will be removed from pandas in a future version. Use pandas.concat instead.\n",
      "  df = df.append(d, ignore_index = True)\n",
      "/var/folders/lh/cqpxzpsx44zdjqktqsfb722m0000gn/T/ipykernel_72719/3530480628.py:16: FutureWarning: The frame.append method is deprecated and will be removed from pandas in a future version. Use pandas.concat instead.\n",
      "  df = df.append(d, ignore_index = True)\n",
      "/var/folders/lh/cqpxzpsx44zdjqktqsfb722m0000gn/T/ipykernel_72719/3530480628.py:16: FutureWarning: The frame.append method is deprecated and will be removed from pandas in a future version. Use pandas.concat instead.\n",
      "  df = df.append(d, ignore_index = True)\n",
      "/var/folders/lh/cqpxzpsx44zdjqktqsfb722m0000gn/T/ipykernel_72719/3530480628.py:16: FutureWarning: The frame.append method is deprecated and will be removed from pandas in a future version. Use pandas.concat instead.\n",
      "  df = df.append(d, ignore_index = True)\n",
      "/var/folders/lh/cqpxzpsx44zdjqktqsfb722m0000gn/T/ipykernel_72719/3530480628.py:16: FutureWarning: The frame.append method is deprecated and will be removed from pandas in a future version. Use pandas.concat instead.\n",
      "  df = df.append(d, ignore_index = True)\n",
      "/var/folders/lh/cqpxzpsx44zdjqktqsfb722m0000gn/T/ipykernel_72719/3530480628.py:16: FutureWarning: The frame.append method is deprecated and will be removed from pandas in a future version. Use pandas.concat instead.\n",
      "  df = df.append(d, ignore_index = True)\n",
      "/var/folders/lh/cqpxzpsx44zdjqktqsfb722m0000gn/T/ipykernel_72719/3530480628.py:16: FutureWarning: The frame.append method is deprecated and will be removed from pandas in a future version. Use pandas.concat instead.\n",
      "  df = df.append(d, ignore_index = True)\n",
      "/var/folders/lh/cqpxzpsx44zdjqktqsfb722m0000gn/T/ipykernel_72719/3530480628.py:16: FutureWarning: The frame.append method is deprecated and will be removed from pandas in a future version. Use pandas.concat instead.\n",
      "  df = df.append(d, ignore_index = True)\n",
      "/var/folders/lh/cqpxzpsx44zdjqktqsfb722m0000gn/T/ipykernel_72719/3530480628.py:16: FutureWarning: The frame.append method is deprecated and will be removed from pandas in a future version. Use pandas.concat instead.\n",
      "  df = df.append(d, ignore_index = True)\n",
      "/var/folders/lh/cqpxzpsx44zdjqktqsfb722m0000gn/T/ipykernel_72719/3530480628.py:16: FutureWarning: The frame.append method is deprecated and will be removed from pandas in a future version. Use pandas.concat instead.\n",
      "  df = df.append(d, ignore_index = True)\n",
      "/var/folders/lh/cqpxzpsx44zdjqktqsfb722m0000gn/T/ipykernel_72719/3530480628.py:16: FutureWarning: The frame.append method is deprecated and will be removed from pandas in a future version. Use pandas.concat instead.\n",
      "  df = df.append(d, ignore_index = True)\n",
      "/var/folders/lh/cqpxzpsx44zdjqktqsfb722m0000gn/T/ipykernel_72719/3530480628.py:16: FutureWarning: The frame.append method is deprecated and will be removed from pandas in a future version. Use pandas.concat instead.\n",
      "  df = df.append(d, ignore_index = True)\n",
      "/var/folders/lh/cqpxzpsx44zdjqktqsfb722m0000gn/T/ipykernel_72719/3530480628.py:16: FutureWarning: The frame.append method is deprecated and will be removed from pandas in a future version. Use pandas.concat instead.\n",
      "  df = df.append(d, ignore_index = True)\n",
      "/var/folders/lh/cqpxzpsx44zdjqktqsfb722m0000gn/T/ipykernel_72719/3530480628.py:16: FutureWarning: The frame.append method is deprecated and will be removed from pandas in a future version. Use pandas.concat instead.\n",
      "  df = df.append(d, ignore_index = True)\n",
      "/var/folders/lh/cqpxzpsx44zdjqktqsfb722m0000gn/T/ipykernel_72719/3530480628.py:16: FutureWarning: The frame.append method is deprecated and will be removed from pandas in a future version. Use pandas.concat instead.\n",
      "  df = df.append(d, ignore_index = True)\n",
      "/var/folders/lh/cqpxzpsx44zdjqktqsfb722m0000gn/T/ipykernel_72719/3530480628.py:16: FutureWarning: The frame.append method is deprecated and will be removed from pandas in a future version. Use pandas.concat instead.\n",
      "  df = df.append(d, ignore_index = True)\n",
      "/var/folders/lh/cqpxzpsx44zdjqktqsfb722m0000gn/T/ipykernel_72719/3530480628.py:16: FutureWarning: The frame.append method is deprecated and will be removed from pandas in a future version. Use pandas.concat instead.\n",
      "  df = df.append(d, ignore_index = True)\n",
      "/var/folders/lh/cqpxzpsx44zdjqktqsfb722m0000gn/T/ipykernel_72719/3530480628.py:16: FutureWarning: The frame.append method is deprecated and will be removed from pandas in a future version. Use pandas.concat instead.\n",
      "  df = df.append(d, ignore_index = True)\n",
      "/var/folders/lh/cqpxzpsx44zdjqktqsfb722m0000gn/T/ipykernel_72719/3530480628.py:16: FutureWarning: The frame.append method is deprecated and will be removed from pandas in a future version. Use pandas.concat instead.\n",
      "  df = df.append(d, ignore_index = True)\n",
      "/var/folders/lh/cqpxzpsx44zdjqktqsfb722m0000gn/T/ipykernel_72719/3530480628.py:16: FutureWarning: The frame.append method is deprecated and will be removed from pandas in a future version. Use pandas.concat instead.\n",
      "  df = df.append(d, ignore_index = True)\n",
      "/var/folders/lh/cqpxzpsx44zdjqktqsfb722m0000gn/T/ipykernel_72719/3530480628.py:16: FutureWarning: The frame.append method is deprecated and will be removed from pandas in a future version. Use pandas.concat instead.\n",
      "  df = df.append(d, ignore_index = True)\n",
      "/var/folders/lh/cqpxzpsx44zdjqktqsfb722m0000gn/T/ipykernel_72719/3530480628.py:16: FutureWarning: The frame.append method is deprecated and will be removed from pandas in a future version. Use pandas.concat instead.\n",
      "  df = df.append(d, ignore_index = True)\n",
      "/var/folders/lh/cqpxzpsx44zdjqktqsfb722m0000gn/T/ipykernel_72719/3530480628.py:16: FutureWarning: The frame.append method is deprecated and will be removed from pandas in a future version. Use pandas.concat instead.\n",
      "  df = df.append(d, ignore_index = True)\n",
      "/var/folders/lh/cqpxzpsx44zdjqktqsfb722m0000gn/T/ipykernel_72719/3530480628.py:16: FutureWarning: The frame.append method is deprecated and will be removed from pandas in a future version. Use pandas.concat instead.\n",
      "  df = df.append(d, ignore_index = True)\n"
     ]
    }
   ],
   "source": [
    "#  Iterate through ResultSet (or invasion dates) and add data to the empty df one by oe by assigning values to keys in a dictionary\n",
    "import pandas as pd\n",
    "df = pd.DataFrame()\n",
    "for i in reversed(range(len(result_set))): \n",
    "    children = result_set[i].find_all(\"li\")\n",
    "    d = {}\n",
    "    for child in children:\n",
    "        list = child.getText().split()\n",
    "        indx = list.index('—')\n",
    "        name = []\n",
    "        for j in range(indx):\n",
    "            name.append(list[j])\n",
    "        name = \" \".join(list[:indx])\n",
    "        res = [int(ele) for ele in list if ele.isdigit()]\n",
    "        d[name] = res[0]\n",
    "    df = df.append(d, ignore_index = True)\n",
    "        "
   ]
  },
  {
   "cell_type": "code",
   "execution_count": 6,
   "metadata": {},
   "outputs": [
    {
     "name": "stdout",
     "output_type": "stream",
     "text": [
      "<class 'pandas.core.frame.DataFrame'>\n",
      "RangeIndex: 276 entries, 0 to 275\n",
      "Data columns (total 18 columns):\n",
      " #   Column                      Non-Null Count  Dtype  \n",
      "---  ------                      --------------  -----  \n",
      " 0   Танки                       276 non-null    int64  \n",
      " 1   ББМ                         276 non-null    int64  \n",
      " 2   Літаки                      276 non-null    int64  \n",
      " 3   Гелікоптери                 276 non-null    int64  \n",
      " 4   Особовий склад              276 non-null    int64  \n",
      " 5   БПЛА                        273 non-null    float64\n",
      " 6   Гармати                     273 non-null    float64\n",
      " 7   ЗРК БУК                     3 non-null      float64\n",
      " 8   Кораблі (катери)            273 non-null    float64\n",
      " 9   РСЗВ Град                   4 non-null      float64\n",
      " 10  Автомобілі                  62 non-null     float64\n",
      " 11  Засоби ППО                  271 non-null    float64\n",
      " 12  Цистерни з ППМ              60 non-null     float64\n",
      " 13  РСЗВ                        269 non-null    float64\n",
      " 14  Спеціальна техніка          256 non-null    float64\n",
      " 15  Пускові установки ОТРК      36 non-null     float64\n",
      " 16  Автомобілі та автоцистерни  210 non-null    float64\n",
      " 17  Крилаті ракети              210 non-null    float64\n",
      "dtypes: float64(13), int64(5)\n",
      "memory usage: 38.9 KB\n"
     ]
    }
   ],
   "source": [
    "df.info()"
   ]
  },
  {
   "cell_type": "code",
   "execution_count": 7,
   "metadata": {},
   "outputs": [
    {
     "data": {
      "text/plain": [
       "<AxesSubplot:>"
      ]
     },
     "execution_count": 7,
     "metadata": {},
     "output_type": "execute_result"
    },
    {
     "data": {
      "image/png": "[encoded data removed]",
      "text/plain": [
       "<Figure size 432x288 with 1 Axes>"
      ]
     },
     "metadata": {
      "needs_background": "light"
     },
     "output_type": "display_data"
    }
   ],
   "source": [
    "df.plot(y = 'Літаки')"
   ]
  },
  {
   "cell_type": "markdown",
   "metadata": {},
   "source": [
    "# Extract dates"
   ]
  },
  {
   "cell_type": "code",
   "execution_count": 8,
   "metadata": {},
   "outputs": [],
   "source": [
    "# Create the ResultSet\n",
    "result_set = []\n",
    "for month in reversed(month_list):\n",
    "    res = requests.get(base_url + month)\n",
    "    soup = bs4.BeautifulSoup(res.text, 'html.parser');\n",
    "    data = soup.find_all(\"span\",{\"class\":\"black\"})\n",
    "    result_set.extend(data[1:-1])"
   ]
  },
  {
   "cell_type": "code",
   "execution_count": 9,
   "metadata": {},
   "outputs": [
    {
     "data": {
      "text/plain": [
       "'26.11.2022'"
      ]
     },
     "execution_count": 9,
     "metadata": {},
     "output_type": "execute_result"
    }
   ],
   "source": [
    "result_set[0].getText()"
   ]
  },
  {
   "cell_type": "code",
   "execution_count": 10,
   "metadata": {},
   "outputs": [],
   "source": [
    "#df = pd.DataFrame()\n",
    "dates_list = []\n",
    "for i in reversed(range(len(result_set))):\n",
    "    date = result_set[i].getText()\n",
    "    dates_list.append(pd.Timestamp(day = int(date[0:2]), month = int(date[3:5]), year = int(date[6:])))"
   ]
  },
  {
   "cell_type": "code",
   "execution_count": 11,
   "metadata": {},
   "outputs": [],
   "source": [
    "df['Дата'] = dates_list"
   ]
  },
  {
   "cell_type": "code",
   "execution_count": 12,
   "metadata": {},
   "outputs": [],
   "source": [
    "#import numpy as np\n",
    "#day_index = np.linspace(len(result_set),1,len(result_set))\n",
    "#print(day_index)"
   ]
  },
  {
   "cell_type": "code",
   "execution_count": 13,
   "metadata": {},
   "outputs": [],
   "source": [
    "#df['День'] = day_index"
   ]
  },
  {
   "cell_type": "code",
   "execution_count": 14,
   "metadata": {},
   "outputs": [
    {
     "name": "stdout",
     "output_type": "stream",
     "text": [
      "<class 'pandas.core.frame.DataFrame'>\n",
      "RangeIndex: 276 entries, 0 to 275\n",
      "Data columns (total 19 columns):\n",
      " #   Column                      Non-Null Count  Dtype         \n",
      "---  ------                      --------------  -----         \n",
      " 0   Танки                       276 non-null    int64         \n",
      " 1   ББМ                         276 non-null    int64         \n",
      " 2   Літаки                      276 non-null    int64         \n",
      " 3   Гелікоптери                 276 non-null    int64         \n",
      " 4   Особовий склад              276 non-null    int64         \n",
      " 5   БПЛА                        273 non-null    float64       \n",
      " 6   Гармати                     273 non-null    float64       \n",
      " 7   ЗРК БУК                     3 non-null      float64       \n",
      " 8   Кораблі (катери)            273 non-null    float64       \n",
      " 9   РСЗВ Град                   4 non-null      float64       \n",
      " 10  Автомобілі                  62 non-null     float64       \n",
      " 11  Засоби ППО                  271 non-null    float64       \n",
      " 12  Цистерни з ППМ              60 non-null     float64       \n",
      " 13  РСЗВ                        269 non-null    float64       \n",
      " 14  Спеціальна техніка          256 non-null    float64       \n",
      " 15  Пускові установки ОТРК      36 non-null     float64       \n",
      " 16  Автомобілі та автоцистерни  210 non-null    float64       \n",
      " 17  Крилаті ракети              210 non-null    float64       \n",
      " 18  Дата                        276 non-null    datetime64[ns]\n",
      "dtypes: datetime64[ns](1), float64(13), int64(5)\n",
      "memory usage: 41.1 KB\n"
     ]
    }
   ],
   "source": [
    "df.info()"
   ]
  },
  {
   "cell_type": "code",
   "execution_count": 15,
   "metadata": {},
   "outputs": [],
   "source": [
    "import seaborn as sns \n",
    "import matplotlib.pyplot as plt"
   ]
  },
  {
   "cell_type": "code",
   "execution_count": 16,
   "metadata": {},
   "outputs": [
    {
     "data": {
      "image/png": "[encoded data removed]",
      "text/plain": [
       "<Figure size 576x576 with 1 Axes>"
      ]
     },
     "metadata": {},
     "output_type": "display_data"
    }
   ],
   "source": [
    "import matplotlib.dates as mdates\n",
    "from matplotlib.ticker import MultipleLocator\n",
    "import matplotlib.ticker as mticker\n",
    "font2 = {'family':'serif','color':'black','size':20}\n",
    "formatter = mdates.DateFormatter('%b %d')\n",
    "\n",
    "f, ax = plt.subplots(figsize=(8, 8))\n",
    "f.patch.set_facecolor('white')\n",
    "sns.lineplot(x=\"Дата\", y=\"ББМ\", linewidth=2,\n",
    "                data= df, ax=ax, color = 'black')\n",
    "plt.xlabel(\"Week number after invasion\", fontdict = font2)\n",
    "plt.ylabel(\"Aircrafts\", fontdict = font2)\n",
    "plt.xticks(fontsize=16)\n",
    "plt.yticks(fontsize=16)\n",
    "ax.set_facecolor('w')\n",
    "ax.xaxis.set_major_formatter(formatter)\n",
    "ax.tick_params(axis='x', rotation=45,  width=2)\n",
    "ax.tick_params(axis='y', width=2)\n",
    "plt.savefig('aircrafts.png')\n"
   ]
  },
  {
   "cell_type": "code",
   "execution_count": 17,
   "metadata": {},
   "outputs": [
    {
     "data": {
      "image/png": "[encoded data removed]",
      "text/plain": [
       "<Figure size 576x576 with 1 Axes>"
      ]
     },
     "metadata": {},
     "output_type": "display_data"
    }
   ],
   "source": [
    "import matplotlib.dates as mdates\n",
    "from matplotlib.ticker import MultipleLocator\n",
    "import matplotlib.ticker as mticker\n",
    "font2 = {'family':'serif','color':'black','size':20}\n",
    "formatter = mdates.DateFormatter('%b %d')\n",
    "\n",
    "f, ax = plt.subplots(figsize=(8, 8))\n",
    "f.patch.set_facecolor('white')\n",
    "sns.lineplot(x=\"Дата\", y=\"Гелікоптери\", linewidth=2,\n",
    "               data= df, ax=ax)\n",
    "sns.lineplot(x=\"Дата\", y=\"Літаки\", linewidth=2,\n",
    "                data= df, ax=ax)\n",
    "#sns.lineplot(x=\"Дата\", y=\"Гармати\", linewidth=2,\n",
    "#                data= df, ax=ax, color = 'green')\n",
    "sns.lineplot(x=\"Дата\", y=\"БПЛА\", linewidth=2,\n",
    "                data= df, ax=ax)\n",
    "plt.grid()\n",
    "plt.xlabel(\"Week number after invasion\", fontdict = font2)\n",
    "plt.ylabel(\"Aircrafts\", fontdict = font2)\n",
    "plt.xticks(fontsize=16)\n",
    "plt.yticks(fontsize=16)\n",
    "ax.set_facecolor('w')\n",
    "ax.xaxis.set_major_formatter(formatter)\n",
    "ax.tick_params(axis='x', rotation=45,  width=2)\n",
    "ax.tick_params(axis='y', width=2)\n",
    "plt.savefig('aircrafts.png')\n",
    "plt.show()\n"
   ]
  },
  {
   "cell_type": "code",
   "execution_count": 18,
   "metadata": {},
   "outputs": [],
   "source": [
    "df = df.fillna(0)"
   ]
  },
  {
   "cell_type": "code",
   "execution_count": 19,
   "metadata": {},
   "outputs": [],
   "source": [
    "df['Авто'] = df[\"Автомобілі\"] + df[\"Автомобілі та автоцистерни\"] + df[\"Цистерни з ППМ\"]"
   ]
  },
  {
   "cell_type": "code",
   "execution_count": 20,
   "metadata": {},
   "outputs": [],
   "source": [
    "df['РСЗВ'] = df['РСЗВ'] + df['РСЗВ Град']"
   ]
  },
  {
   "cell_type": "code",
   "execution_count": 21,
   "metadata": {},
   "outputs": [],
   "source": [
    "df['Аеро'] = df['Літаки'] + df['БПЛА'] + df['Гелікоптери']"
   ]
  },
  {
   "cell_type": "code",
   "execution_count": 22,
   "metadata": {},
   "outputs": [],
   "source": [
    "df['Подвіжна Техніка'] = df['Авто'] + df['Танки'] + df['ББМ']"
   ]
  },
  {
   "cell_type": "code",
   "execution_count": 23,
   "metadata": {},
   "outputs": [],
   "source": [
    "df['Неподвіжна Техніка'] = df['РСЗВ'] + df['Гармати'] + df['Засоби ППО'] + df['Спеціальна техніка']"
   ]
  },
  {
   "cell_type": "code",
   "execution_count": 24,
   "metadata": {},
   "outputs": [],
   "source": [
    "import numpy as np\n",
    "df = df.replace(0,np.nan)"
   ]
  },
  {
   "cell_type": "code",
   "execution_count": 25,
   "metadata": {},
   "outputs": [
    {
     "data": {
      "image/png": "[encoded data removed]",
      "text/plain": [
       "<Figure size 576x576 with 1 Axes>"
      ]
     },
     "metadata": {},
     "output_type": "display_data"
    }
   ],
   "source": [
    "import matplotlib.dates as mdates\n",
    "from matplotlib.ticker import MultipleLocator\n",
    "import matplotlib.ticker as mticker\n",
    "font2 = {'family':'serif','color':'black','size':20}\n",
    "formatter = mdates.DateFormatter('%b %d')\n",
    "\n",
    "f, ax = plt.subplots(figsize=(8, 8))\n",
    "f.patch.set_facecolor('white')\n",
    "sns.lineplot(x=\"Дата\", y=\"ББМ\", linewidth=2,\n",
    "               data= df, ax=ax, color = 'black')\n",
    "sns.lineplot(x=\"Дата\", y=\"Танки\", linewidth=2,\n",
    "                data= df, ax=ax, color = 'blue')\n",
    "#sns.lineplot(x=\"Дата\", y=\"Гармати\", linewidth=2,\n",
    "#                data= df, ax=ax, color = 'green')\n",
    "sns.lineplot(x=\"Дата\", y=\"Автомобілі\", linewidth=2,\n",
    "                data= df, ax=ax, color = 'red')\n",
    "plt.grid()\n",
    "plt.xlabel(\"Week number after invasion\", fontdict = font2)\n",
    "plt.ylabel(\"Aircrafts\", fontdict = font2)\n",
    "plt.xticks(fontsize=16)\n",
    "plt.yticks(fontsize=16)\n",
    "ax.set_facecolor('w')\n",
    "ax.xaxis.set_major_formatter(formatter)\n",
    "ax.tick_params(axis='x', rotation=45,  width=2)\n",
    "ax.tick_params(axis='y', width=2)\n",
    "plt.savefig('aircrafts.png')\n",
    "plt.show()"
   ]
  },
  {
   "cell_type": "code",
   "execution_count": 26,
   "metadata": {},
   "outputs": [],
   "source": [
    "from datetime import date\n",
    "d1 = date(2022, 2, 23)\n",
    "d2 = datetime.date.today()"
   ]
  },
  {
   "cell_type": "code",
   "execution_count": 27,
   "metadata": {},
   "outputs": [],
   "source": [
    "result = (d2-d1).days//7"
   ]
  },
  {
   "cell_type": "code",
   "execution_count": 28,
   "metadata": {},
   "outputs": [
    {
     "data": {
      "text/plain": [
       "276"
      ]
     },
     "execution_count": 28,
     "metadata": {},
     "output_type": "execute_result"
    }
   ],
   "source": [
    "len(df)"
   ]
  },
  {
   "cell_type": "code",
   "execution_count": 29,
   "metadata": {},
   "outputs": [],
   "source": [
    "#df=df.drop(df.index[-1])\n",
    "#df=df.drop(df.index[-1])"
   ]
  },
  {
   "cell_type": "code",
   "execution_count": 30,
   "metadata": {},
   "outputs": [
    {
     "name": "stdout",
     "output_type": "stream",
     "text": [
      "0\n",
      "7\n",
      "14\n",
      "21\n",
      "28\n",
      "35\n",
      "42\n",
      "49\n",
      "56\n",
      "63\n",
      "70\n",
      "77\n",
      "84\n",
      "91\n",
      "98\n",
      "105\n",
      "112\n",
      "119\n",
      "126\n",
      "133\n",
      "140\n",
      "147\n",
      "154\n",
      "161\n",
      "168\n",
      "175\n",
      "182\n",
      "189\n",
      "196\n",
      "203\n",
      "210\n",
      "217\n",
      "224\n",
      "231\n",
      "238\n",
      "245\n",
      "252\n",
      "259\n",
      "266\n"
     ]
    }
   ],
   "source": [
    "mylist = []\n",
    "\n",
    "for i in range(0,len(df)-7,7):\n",
    "    print(i)\n",
    "    mylist.append(df['Особовий склад'][i+7] - df['Особовий склад'][i])\n",
    "#i = (len(df) - 7*x - 1)\n",
    "#list.append((df['Танки'][0] - df['Танки'][i])/i*7)"
   ]
  },
  {
   "cell_type": "code",
   "execution_count": 31,
   "metadata": {},
   "outputs": [
    {
     "name": "stdout",
     "output_type": "stream",
     "text": [
      "275\n"
     ]
    }
   ],
   "source": [
    "x = (len(df)-1)%7\n",
    "print(df.index[-1])\n",
    "if x != 0:\n",
    "    mylist.append(df['Особовий склад'][df.index[-1]]-df['Особовий склад'][df.index[-1-x]])"
   ]
  },
  {
   "cell_type": "code",
   "execution_count": 32,
   "metadata": {},
   "outputs": [],
   "source": [
    "array = np.array(mylist)\n",
    "rank = array.argsort().argsort()"
   ]
  },
  {
   "cell_type": "code",
   "execution_count": 33,
   "metadata": {},
   "outputs": [
    {
     "data": {
      "text/plain": [
       "40"
      ]
     },
     "execution_count": 33,
     "metadata": {},
     "output_type": "execute_result"
    }
   ],
   "source": [
    "len(mylist)"
   ]
  },
  {
   "cell_type": "code",
   "execution_count": 34,
   "metadata": {},
   "outputs": [
    {
     "data": {
      "text/plain": [
       "array([ 1.,  2.,  3.,  4.,  5.,  6.,  7.,  8.,  9., 10., 11., 12., 13.,\n",
       "       14., 15., 16., 17., 18., 19., 20., 21., 22., 23.])"
      ]
     },
     "execution_count": 34,
     "metadata": {},
     "output_type": "execute_result"
    }
   ],
   "source": [
    "np.linspace(1,23,23)"
   ]
  },
  {
   "cell_type": "code",
   "execution_count": 35,
   "metadata": {},
   "outputs": [
    {
     "data": {
      "image/png": "[encoded data removed]",
      "text/plain": [
       "<Figure size 1080x720 with 1 Axes>"
      ]
     },
     "metadata": {
      "needs_background": "light"
     },
     "output_type": "display_data"
    }
   ],
   "source": [
    "font2 = {'family':'serif','color':'black','size':18}\n",
    "f, ax = plt.subplots(figsize=(15, 10))\n",
    "sns.set_theme(style=\"whitegrid\")\n",
    "pal = sns.color_palette(\"Blues_d\", len(mylist))\n",
    "ax = sns.barplot(x = np.linspace(1,len(mylist),len(mylist)), y = mylist, palette=np.array(pal)[rank])\n",
    "plt.xticks(fontsize=16)\n",
    "plt.yticks(fontsize=16)\n",
    "plt.xlabel(\"Week\", fontdict = font2)\n",
    "plt.ylabel(\"Tanks\", fontdict = font2)\n",
    "plt.savefig('tanks.png')\n"
   ]
  },
  {
   "cell_type": "code",
   "execution_count": 36,
   "metadata": {},
   "outputs": [
    {
     "data": {
      "text/plain": [
       "array([39, 34, 25, 20, 19, 14,  3,  6, 21, 23, 24, 22,  5,  9,  0, 10, 15,\n",
       "        7,  4,  8,  1, 13, 11, 16, 12, 17, 27, 33, 29, 18, 35, 31, 26, 32,\n",
       "       28, 38, 37, 36, 30,  2])"
      ]
     },
     "execution_count": 36,
     "metadata": {},
     "output_type": "execute_result"
    }
   ],
   "source": [
    "rank"
   ]
  },
  {
   "cell_type": "code",
   "execution_count": 37,
   "metadata": {},
   "outputs": [
    {
     "data": {
      "text/plain": [
       "array([8200, 3000, 2000, 1800, 1700, 1400, 1000, 1100, 1800, 1900, 1950,\n",
       "       1850, 1100, 1250,  850, 1250, 1480, 1170, 1050, 1220,  980, 1380,\n",
       "       1270, 1500, 1300, 1550, 2500, 2900, 2600, 1660, 3070, 2750, 2470,\n",
       "       2850, 2570, 4780, 4690, 4420, 2610,  990])"
      ]
     },
     "execution_count": 37,
     "metadata": {},
     "output_type": "execute_result"
    }
   ],
   "source": [
    "array"
   ]
  },
  {
   "cell_type": "code",
   "execution_count": 38,
   "metadata": {},
   "outputs": [
    {
     "data": {
      "text/plain": [
       "array([14, 20, 39,  6, 18, 12,  7, 17, 19, 13, 15, 22, 24, 21,  5, 16, 23,\n",
       "       25, 29,  4,  3,  8, 11,  9, 10,  2, 32, 26, 34, 28, 38, 31, 33, 27,\n",
       "        1, 30, 37, 36, 35,  0])"
      ]
     },
     "execution_count": 38,
     "metadata": {},
     "output_type": "execute_result"
    }
   ],
   "source": [
    "array.argsort()"
   ]
  },
  {
   "cell_type": "code",
   "execution_count": 39,
   "metadata": {},
   "outputs": [
    {
     "data": {
      "text/plain": [
       "array([39, 34, 25, 20, 19, 14,  3,  6, 21, 23, 24, 22,  5,  9,  0, 10, 15,\n",
       "        7,  4,  8,  1, 13, 11, 16, 12, 17, 27, 33, 29, 18, 35, 31, 26, 32,\n",
       "       28, 38, 37, 36, 30,  2])"
      ]
     },
     "execution_count": 39,
     "metadata": {},
     "output_type": "execute_result"
    }
   ],
   "source": [
    "array.argsort().argsort()"
   ]
  },
  {
   "cell_type": "code",
   "execution_count": 40,
   "metadata": {},
   "outputs": [
    {
     "data": {
      "text/plain": [
       "array([ 990, 2610, 4420, 4690, 4780, 2570, 2850, 2470, 2750, 3070, 1660,\n",
       "       2600, 2900, 2500, 1550, 1300, 1500, 1270, 1380,  980, 1220, 1050,\n",
       "       1170, 1480, 1250,  850, 1250, 1100, 1850, 1950, 1900, 1800, 1100,\n",
       "       1000, 1400, 1700, 1800, 2000, 3000, 8200])"
      ]
     },
     "execution_count": 40,
     "metadata": {},
     "output_type": "execute_result"
    }
   ],
   "source": [
    "array[::-1]"
   ]
  },
  {
   "cell_type": "code",
   "execution_count": 41,
   "metadata": {},
   "outputs": [
    {
     "data": {
      "text/plain": [
       "0        NaN\n",
       "1        NaN\n",
       "2        NaN\n",
       "3        NaN\n",
       "4      291.0\n",
       "       ...  \n",
       "271      NaN\n",
       "272      NaN\n",
       "273      NaN\n",
       "274      NaN\n",
       "275      NaN\n",
       "Name: Автомобілі, Length: 276, dtype: float64"
      ]
     },
     "execution_count": 41,
     "metadata": {},
     "output_type": "execute_result"
    }
   ],
   "source": [
    "df['Автомобілі']"
   ]
  },
  {
   "cell_type": "code",
   "execution_count": 42,
   "metadata": {},
   "outputs": [
    {
     "data": {
      "text/plain": [
       "0         NaN\n",
       "1         NaN\n",
       "2         NaN\n",
       "3        54.0\n",
       "4        95.0\n",
       "        ...  \n",
       "271    2647.0\n",
       "272    2652.0\n",
       "273    2654.0\n",
       "274    2662.0\n",
       "275    2663.0\n",
       "Name: Неподвіжна Техніка, Length: 276, dtype: float64"
      ]
     },
     "execution_count": 42,
     "metadata": {},
     "output_type": "execute_result"
    }
   ],
   "source": [
    "df['Неподвіжна Техніка']"
   ]
  },
  {
   "cell_type": "code",
   "execution_count": 43,
   "metadata": {},
   "outputs": [],
   "source": [
    "df.to_pickle(\"file.pkl\")"
   ]
  },
  {
   "cell_type": "code",
   "execution_count": 44,
   "metadata": {},
   "outputs": [],
   "source": [
    "import datetime\n",
    "from os import path\n",
    "import requests\n",
    "import bs4\n",
    "import pandas as pd\n",
    "import numpy as np\n",
    "import warnings\n",
    "warnings.filterwarnings(\"ignore\")\n",
    "import seaborn as sns \n",
    "import matplotlib.pyplot as plt\n",
    "import matplotlib.dates as mdates\n",
    "formatter = mdates.DateFormatter('%b %d')\n",
    "\n",
    "class ArmyLoss():\n",
    "    \n",
    "    def __init__(self):\n",
    "        self.df = pd.DataFrame()\n",
    "        self.base_url = 'https://index.minfin.com.ua/ua/russian-invading/casualties/'\n",
    "        self.current_month = datetime.datetime.now().month \n",
    "        \n",
    "        if not path.exists(\"armyloss.pkl\"):\n",
    "            \n",
    "            self.month_list = []\n",
    "        \n",
    "            self._update_month()\n",
    "               \n",
    "            self._fill_df()\n",
    "        \n",
    "            self._add_dates()\n",
    "        \n",
    "            self._pre_process()\n",
    "            \n",
    "            self.df.to_pickle(\"armyloss.pkl\")\n",
    "            \n",
    "        else:\n",
    "            \n",
    "            self.df = pd.read_pickle(\"armyloss.pkl\")\n",
    "            \n",
    "        \n",
    "#        self._generate_resultset_day()\n",
    "        \n",
    "    def _update_month(self):\n",
    "        for i in range(2,self.current_month + 1): # add the current month\n",
    "            t = datetime.datetime(2022, i, 1, 0, 0)\n",
    "            t = t.strftime('%Y-%m')\n",
    "            self.month_list.append(t)\n",
    "            \n",
    "    def _generate_resulset_data(self):\n",
    "        for month in reversed(self.month_list):\n",
    "            print(month)\n",
    "            res = requests.get(self.base_url + month)\n",
    "            soup = bs4.BeautifulSoup(res.text, 'html.parser');\n",
    "            data = soup.find_all(\"div\",{\"class\":\"casualties\"})\n",
    "            self.result_set.extend(data[1:])\n",
    "    \n",
    "    def _fill_df(self):\n",
    "        self.result_set = []\n",
    "        self._generate_resulset_data()\n",
    "        \n",
    "        for i in reversed(range(len(self.result_set))):\n",
    "            children = self.result_set[i].find_all(\"li\")\n",
    "            d = {}\n",
    "            for child in children:\n",
    "                list = child.getText().split()\n",
    "                indx = list.index('—')\n",
    "                name = []\n",
    "                for j in range(indx):\n",
    "                    name.append(list[j])\n",
    "                name = \" \".join(list[:indx])\n",
    "                res = [int(ele) for ele in list if ele.isdigit()]\n",
    "                d[name] = res[0]\n",
    "            self.df = self.df.append(d, ignore_index = True)\n",
    "    \n",
    "    \n",
    "    def _generate_resultset_day(self):\n",
    "        self.result_set = []\n",
    "        for month in reversed(self.month_list):\n",
    "            res = requests.get(self.base_url + month)\n",
    "            soup = bs4.BeautifulSoup(res.text, 'html.parser')\n",
    "            data = soup.find_all(\"span\",{\"class\":\"black\"})\n",
    "            self.result_set.extend(data[1:-1])\n",
    "        \n",
    "    def _add_dates(self):\n",
    "        self.result_set = []\n",
    "        self._generate_resultset_day()\n",
    "        \n",
    "        dates_list = []\n",
    "        for i in reversed(range(len(self.result_set))):\n",
    "            date = self.result_set[i].getText()\n",
    "            dates_list.append(pd.Timestamp(day = int(date[0:2]), month = int(date[3:5]), year = int(date[6:]))) \n",
    "        \n",
    "        self.df['Дата'] = dates_list\n",
    "        \n",
    "                    \n",
    "    def _pre_process(self):\n",
    "        self.df = self.df.fillna(0)\n",
    "        self.df['Автомобілі'] = self.df[\"Автомобілі\"] + self.df[\"Автомобілі та автоцистерни\"] + self.df[\"Цистерни з ППМ\"]\n",
    "        self.df['РСЗВ'] = self.df['РСЗВ'] + self.df['РСЗВ Град']\n",
    "        self.df = self.df.replace(0,np.nan)\n",
    "        self.df = self.df.drop(columns = ['ЗРК БУК','РСЗВ Град','Автомобілі та автоцистерни','Цистерни з ППМ', 'Пускові установки ОТРК'])\n",
    "        \n",
    "        self.df = self.df.rename(columns = {\n",
    "            'Літаки':'Fighter Aircrafts',\n",
    "            'Танки':'Tanks',\n",
    "            'Гелікоптери':'Helicopters',\n",
    "            'БПЛА':'Unamanned Aircrafts',    \n",
    "            'РСЗВ':'Multiple Rocket Launcher',\n",
    "            'ББМ':'Armoured Vehicles',\n",
    "            'Засоби ППО':'Air Defence Systems',\n",
    "            'Гармати':'Artillery',\n",
    "            'Особовий склад':'Manpower',\n",
    "            'Кораблі (катери)':'Ships and Boats',\n",
    "            'Крилаті ракети':'Cruise Missiles',\n",
    "            'Автомобілі': 'Cars and Tank Cars',\n",
    "            'Спеціальна техніка':'Special Equipment',\n",
    "            'Дата': 'Date'\n",
    "        })\n",
    "        \n",
    "    def get_columns(self):\n",
    "        return self.df.columns.values.tolist()\n",
    "    \n",
    "    def get_linechart(self, labels):\n",
    "        font2 = {'family':'serif','color':'black','size':18}\n",
    "        \n",
    "        f, ax = plt.subplots(figsize=(8, 8))\n",
    "        f.patch.set_facecolor('white')\n",
    "        for item in labels:\n",
    "            ax.plot(self.df['Date'], self.df[item],label = item)\n",
    "        plt.grid()\n",
    "        plt.xticks(fontsize=14)\n",
    "        plt.yticks(fontsize=14)\n",
    "        ax.xaxis.set_major_formatter(formatter)\n",
    "        ax.tick_params(axis='x', rotation=45,  width=2)\n",
    "        ax.legend()\n",
    "        plt.xlabel(\"Day\",fontdict = font2)\n",
    "        plt.ylabel(\"Number\", fontdict = font2)\n",
    "        \n",
    "        return f"
   ]
  },
  {
   "cell_type": "code",
   "execution_count": 45,
   "metadata": {},
   "outputs": [],
   "source": [
    "s = ArmyLoss()"
   ]
  },
  {
   "cell_type": "code",
   "execution_count": 46,
   "metadata": {},
   "outputs": [
    {
     "name": "stdout",
     "output_type": "stream",
     "text": [
      "<class 'pandas.core.frame.DataFrame'>\n",
      "RangeIndex: 276 entries, 0 to 275\n",
      "Data columns (total 14 columns):\n",
      " #   Column                    Non-Null Count  Dtype         \n",
      "---  ------                    --------------  -----         \n",
      " 0   Tanks                     276 non-null    int64         \n",
      " 1   Armoured Vehicles         276 non-null    int64         \n",
      " 2   Fighter Aircrafts         276 non-null    int64         \n",
      " 3   Helicopters               276 non-null    int64         \n",
      " 4   Manpower                  276 non-null    int64         \n",
      " 5   Unmanned Aircrafts        273 non-null    float64       \n",
      " 6   Artillery                 273 non-null    float64       \n",
      " 7   Ships and Boats           273 non-null    float64       \n",
      " 8   Cars and Tank Cars        272 non-null    float64       \n",
      " 9   Air Defence Systems       271 non-null    float64       \n",
      " 10  Multiple Rocket Launcher  273 non-null    float64       \n",
      " 11  Special Equipment         256 non-null    float64       \n",
      " 12  Cruise Missiles           210 non-null    float64       \n",
      " 13  Date                      276 non-null    datetime64[ns]\n",
      "dtypes: datetime64[ns](1), float64(8), int64(5)\n",
      "memory usage: 30.3 KB\n"
     ]
    }
   ],
   "source": [
    "s.df.info()"
   ]
  },
  {
   "cell_type": "code",
   "execution_count": 47,
   "metadata": {},
   "outputs": [],
   "source": [
    "import pandas as pd\n",
    "df = pd.read_pickle(\"armyloss.pkl\")"
   ]
  },
  {
   "cell_type": "code",
   "execution_count": 48,
   "metadata": {},
   "outputs": [
    {
     "name": "stdout",
     "output_type": "stream",
     "text": [
      "<class 'pandas.core.frame.DataFrame'>\n",
      "RangeIndex: 276 entries, 0 to 275\n",
      "Data columns (total 14 columns):\n",
      " #   Column                    Non-Null Count  Dtype         \n",
      "---  ------                    --------------  -----         \n",
      " 0   Tanks                     276 non-null    int64         \n",
      " 1   Armoured Vehicles         276 non-null    int64         \n",
      " 2   Fighter Aircrafts         276 non-null    int64         \n",
      " 3   Helicopters               276 non-null    int64         \n",
      " 4   Manpower                  276 non-null    int64         \n",
      " 5   Unmanned Aircrafts        273 non-null    float64       \n",
      " 6   Artillery                 273 non-null    float64       \n",
      " 7   Ships and Boats           273 non-null    float64       \n",
      " 8   Cars and Tank Cars        272 non-null    float64       \n",
      " 9   Air Defence Systems       271 non-null    float64       \n",
      " 10  Multiple Rocket Launcher  273 non-null    float64       \n",
      " 11  Special Equipment         256 non-null    float64       \n",
      " 12  Cruise Missiles           210 non-null    float64       \n",
      " 13  Date                      276 non-null    datetime64[ns]\n",
      "dtypes: datetime64[ns](1), float64(8), int64(5)\n",
      "memory usage: 30.3 KB\n"
     ]
    }
   ],
   "source": [
    "df.info()"
   ]
  },
  {
   "cell_type": "code",
   "execution_count": 49,
   "metadata": {},
   "outputs": [],
   "source": [
    "label = 'Air Defence Systems'"
   ]
  },
  {
   "cell_type": "code",
   "execution_count": 50,
   "metadata": {},
   "outputs": [
    {
     "data": {
      "text/plain": [
       "0"
      ]
     },
     "execution_count": 50,
     "metadata": {},
     "output_type": "execute_result"
    }
   ],
   "source": [
    "int(df.iloc[-1][label] - df.iloc[-2][label])"
   ]
  },
  {
   "cell_type": "code",
   "execution_count": 51,
   "metadata": {},
   "outputs": [],
   "source": [
    "new_pd = df.loc[(df['Date'].dt.month==5), 'Tanks']"
   ]
  },
  {
   "cell_type": "code",
   "execution_count": 52,
   "metadata": {},
   "outputs": [],
   "source": [
    "new_df = pd.DataFrame()\n",
    "#df = df.replace(np.nan,0)\n",
    "for row in range(1, len(df.index)):\n",
    "    df_to_append = df.iloc[row,:] - df.iloc[row-1,:]\n",
    "    df_to_append['Date'] = df['Date'][row]\n",
    "    new_df = new_df.append(df_to_append, ignore_index=True)"
   ]
  },
  {
   "cell_type": "code",
   "execution_count": 53,
   "metadata": {},
   "outputs": [
    {
     "data": {
      "text/html": [
       "<div>\n",
       "<style scoped>\n",
       "    .dataframe tbody tr th:only-of-type {\n",
       "        vertical-align: middle;\n",
       "    }\n",
       "\n",
       "    .dataframe tbody tr th {\n",
       "        vertical-align: top;\n",
       "    }\n",
       "\n",
       "    .dataframe thead th {\n",
       "        text-align: right;\n",
       "    }\n",
       "</style>\n",
       "<table border=\"1\" class=\"dataframe\">\n",
       "  <thead>\n",
       "    <tr style=\"text-align: right;\">\n",
       "      <th></th>\n",
       "      <th>Tanks</th>\n",
       "      <th>Armoured Vehicles</th>\n",
       "      <th>Fighter Aircrafts</th>\n",
       "      <th>Helicopters</th>\n",
       "      <th>Manpower</th>\n",
       "      <th>Unmanned Aircrafts</th>\n",
       "      <th>Artillery</th>\n",
       "      <th>Ships and Boats</th>\n",
       "      <th>Cars and Tank Cars</th>\n",
       "      <th>Air Defence Systems</th>\n",
       "      <th>Multiple Rocket Launcher</th>\n",
       "      <th>Special Equipment</th>\n",
       "      <th>Cruise Missiles</th>\n",
       "      <th>Date</th>\n",
       "    </tr>\n",
       "  </thead>\n",
       "  <tbody>\n",
       "    <tr>\n",
       "      <th>0</th>\n",
       "      <td>50</td>\n",
       "      <td>386</td>\n",
       "      <td>3</td>\n",
       "      <td>1</td>\n",
       "      <td>2000</td>\n",
       "      <td>NaN</td>\n",
       "      <td>NaN</td>\n",
       "      <td>NaN</td>\n",
       "      <td>NaN</td>\n",
       "      <td>NaN</td>\n",
       "      <td>NaN</td>\n",
       "      <td>NaN</td>\n",
       "      <td>NaN</td>\n",
       "      <td>2022-02-25</td>\n",
       "    </tr>\n",
       "    <tr>\n",
       "      <th>1</th>\n",
       "      <td>20</td>\n",
       "      <td>24</td>\n",
       "      <td>6</td>\n",
       "      <td>11</td>\n",
       "      <td>200</td>\n",
       "      <td>NaN</td>\n",
       "      <td>NaN</td>\n",
       "      <td>NaN</td>\n",
       "      <td>NaN</td>\n",
       "      <td>NaN</td>\n",
       "      <td>NaN</td>\n",
       "      <td>NaN</td>\n",
       "      <td>NaN</td>\n",
       "      <td>2022-02-26</td>\n",
       "    </tr>\n",
       "    <tr>\n",
       "      <th>2</th>\n",
       "      <td>50</td>\n",
       "      <td>166</td>\n",
       "      <td>11</td>\n",
       "      <td>8</td>\n",
       "      <td>1500</td>\n",
       "      <td>NaN</td>\n",
       "      <td>NaN</td>\n",
       "      <td>NaN</td>\n",
       "      <td>NaN</td>\n",
       "      <td>NaN</td>\n",
       "      <td>NaN</td>\n",
       "      <td>NaN</td>\n",
       "      <td>NaN</td>\n",
       "      <td>2022-02-27</td>\n",
       "    </tr>\n",
       "    <tr>\n",
       "      <th>3</th>\n",
       "      <td>41</td>\n",
       "      <td>110</td>\n",
       "      <td>2</td>\n",
       "      <td>3</td>\n",
       "      <td>800</td>\n",
       "      <td>1.0</td>\n",
       "      <td>24.0</td>\n",
       "      <td>0.0</td>\n",
       "      <td>NaN</td>\n",
       "      <td>NaN</td>\n",
       "      <td>17.0</td>\n",
       "      <td>NaN</td>\n",
       "      <td>NaN</td>\n",
       "      <td>2022-02-28</td>\n",
       "    </tr>\n",
       "    <tr>\n",
       "      <th>4</th>\n",
       "      <td>7</td>\n",
       "      <td>30</td>\n",
       "      <td>0</td>\n",
       "      <td>0</td>\n",
       "      <td>410</td>\n",
       "      <td>0.0</td>\n",
       "      <td>3.0</td>\n",
       "      <td>0.0</td>\n",
       "      <td>14.0</td>\n",
       "      <td>NaN</td>\n",
       "      <td>3.0</td>\n",
       "      <td>NaN</td>\n",
       "      <td>NaN</td>\n",
       "      <td>2022-03-01</td>\n",
       "    </tr>\n",
       "    <tr>\n",
       "      <th>...</th>\n",
       "      <td>...</td>\n",
       "      <td>...</td>\n",
       "      <td>...</td>\n",
       "      <td>...</td>\n",
       "      <td>...</td>\n",
       "      <td>...</td>\n",
       "      <td>...</td>\n",
       "      <td>...</td>\n",
       "      <td>...</td>\n",
       "      <td>...</td>\n",
       "      <td>...</td>\n",
       "      <td>...</td>\n",
       "      <td>...</td>\n",
       "      <td>...</td>\n",
       "    </tr>\n",
       "    <tr>\n",
       "      <th>270</th>\n",
       "      <td>3</td>\n",
       "      <td>5</td>\n",
       "      <td>0</td>\n",
       "      <td>0</td>\n",
       "      <td>400</td>\n",
       "      <td>0.0</td>\n",
       "      <td>12.0</td>\n",
       "      <td>0.0</td>\n",
       "      <td>15.0</td>\n",
       "      <td>0.0</td>\n",
       "      <td>2.0</td>\n",
       "      <td>0.0</td>\n",
       "      <td>0.0</td>\n",
       "      <td>2022-11-22</td>\n",
       "    </tr>\n",
       "    <tr>\n",
       "      <th>271</th>\n",
       "      <td>2</td>\n",
       "      <td>5</td>\n",
       "      <td>0</td>\n",
       "      <td>0</td>\n",
       "      <td>410</td>\n",
       "      <td>0.0</td>\n",
       "      <td>5.0</td>\n",
       "      <td>0.0</td>\n",
       "      <td>3.0</td>\n",
       "      <td>0.0</td>\n",
       "      <td>0.0</td>\n",
       "      <td>0.0</td>\n",
       "      <td>0.0</td>\n",
       "      <td>2022-11-23</td>\n",
       "    </tr>\n",
       "    <tr>\n",
       "      <th>272</th>\n",
       "      <td>1</td>\n",
       "      <td>7</td>\n",
       "      <td>0</td>\n",
       "      <td>0</td>\n",
       "      <td>310</td>\n",
       "      <td>10.0</td>\n",
       "      <td>2.0</td>\n",
       "      <td>0.0</td>\n",
       "      <td>4.0</td>\n",
       "      <td>0.0</td>\n",
       "      <td>0.0</td>\n",
       "      <td>0.0</td>\n",
       "      <td>51.0</td>\n",
       "      <td>2022-11-24</td>\n",
       "    </tr>\n",
       "    <tr>\n",
       "      <th>273</th>\n",
       "      <td>1</td>\n",
       "      <td>5</td>\n",
       "      <td>0</td>\n",
       "      <td>0</td>\n",
       "      <td>430</td>\n",
       "      <td>6.0</td>\n",
       "      <td>6.0</td>\n",
       "      <td>0.0</td>\n",
       "      <td>4.0</td>\n",
       "      <td>0.0</td>\n",
       "      <td>0.0</td>\n",
       "      <td>2.0</td>\n",
       "      <td>0.0</td>\n",
       "      <td>2022-11-25</td>\n",
       "    </tr>\n",
       "    <tr>\n",
       "      <th>274</th>\n",
       "      <td>2</td>\n",
       "      <td>4</td>\n",
       "      <td>0</td>\n",
       "      <td>0</td>\n",
       "      <td>560</td>\n",
       "      <td>1.0</td>\n",
       "      <td>1.0</td>\n",
       "      <td>0.0</td>\n",
       "      <td>2.0</td>\n",
       "      <td>0.0</td>\n",
       "      <td>0.0</td>\n",
       "      <td>0.0</td>\n",
       "      <td>0.0</td>\n",
       "      <td>2022-11-26</td>\n",
       "    </tr>\n",
       "  </tbody>\n",
       "</table>\n",
       "<p>275 rows × 14 columns</p>\n",
       "</div>"
      ],
      "text/plain": [
       "     Tanks  Armoured Vehicles  Fighter Aircrafts  Helicopters  Manpower  \\\n",
       "0       50                386                  3            1      2000   \n",
       "1       20                 24                  6           11       200   \n",
       "2       50                166                 11            8      1500   \n",
       "3       41                110                  2            3       800   \n",
       "4        7                 30                  0            0       410   \n",
       "..     ...                ...                ...          ...       ...   \n",
       "270      3                  5                  0            0       400   \n",
       "271      2                  5                  0            0       410   \n",
       "272      1                  7                  0            0       310   \n",
       "273      1                  5                  0            0       430   \n",
       "274      2                  4                  0            0       560   \n",
       "\n",
       "     Unmanned Aircrafts  Artillery  Ships and Boats  Cars and Tank Cars  \\\n",
       "0                   NaN        NaN              NaN                 NaN   \n",
       "1                   NaN        NaN              NaN                 NaN   \n",
       "2                   NaN        NaN              NaN                 NaN   \n",
       "3                   1.0       24.0              0.0                 NaN   \n",
       "4                   0.0        3.0              0.0                14.0   \n",
       "..                  ...        ...              ...                 ...   \n",
       "270                 0.0       12.0              0.0                15.0   \n",
       "271                 0.0        5.0              0.0                 3.0   \n",
       "272                10.0        2.0              0.0                 4.0   \n",
       "273                 6.0        6.0              0.0                 4.0   \n",
       "274                 1.0        1.0              0.0                 2.0   \n",
       "\n",
       "     Air Defence Systems  Multiple Rocket Launcher  Special Equipment  \\\n",
       "0                    NaN                       NaN                NaN   \n",
       "1                    NaN                       NaN                NaN   \n",
       "2                    NaN                       NaN                NaN   \n",
       "3                    NaN                      17.0                NaN   \n",
       "4                    NaN                       3.0                NaN   \n",
       "..                   ...                       ...                ...   \n",
       "270                  0.0                       2.0                0.0   \n",
       "271                  0.0                       0.0                0.0   \n",
       "272                  0.0                       0.0                0.0   \n",
       "273                  0.0                       0.0                2.0   \n",
       "274                  0.0                       0.0                0.0   \n",
       "\n",
       "     Cruise Missiles       Date  \n",
       "0                NaN 2022-02-25  \n",
       "1                NaN 2022-02-26  \n",
       "2                NaN 2022-02-27  \n",
       "3                NaN 2022-02-28  \n",
       "4                NaN 2022-03-01  \n",
       "..               ...        ...  \n",
       "270              0.0 2022-11-22  \n",
       "271              0.0 2022-11-23  \n",
       "272             51.0 2022-11-24  \n",
       "273              0.0 2022-11-25  \n",
       "274              0.0 2022-11-26  \n",
       "\n",
       "[275 rows x 14 columns]"
      ]
     },
     "execution_count": 53,
     "metadata": {},
     "output_type": "execute_result"
    }
   ],
   "source": [
    "new_df"
   ]
  },
  {
   "cell_type": "code",
   "execution_count": 54,
   "metadata": {},
   "outputs": [
    {
     "data": {
      "image/png": "[encoded data removed]",
      "text/plain": [
       "<Figure size 576x864 with 1 Axes>"
      ]
     },
     "metadata": {},
     "output_type": "display_data"
    }
   ],
   "source": [
    "fig, ax = plt.subplots(figsize=(8, 12))\n",
    "fig.patch.set_facecolor('white')\n",
    "#df.boxplot(column = 'Tanks', by=df.Date.dt.month, ax = ax)\n",
    "ax = sns.boxplot(x=new_df.Date.dt.month, y=\"Tanks\", data=new_df)\n",
    "ax.yaxis.grid(True)\n",
    "plt.savefig('tanks.png')\n"
   ]
  },
  {
   "cell_type": "code",
   "execution_count": 55,
   "metadata": {},
   "outputs": [
    {
     "data": {
      "text/html": [
       "<div>\n",
       "<style scoped>\n",
       "    .dataframe tbody tr th:only-of-type {\n",
       "        vertical-align: middle;\n",
       "    }\n",
       "\n",
       "    .dataframe tbody tr th {\n",
       "        vertical-align: top;\n",
       "    }\n",
       "\n",
       "    .dataframe thead th {\n",
       "        text-align: right;\n",
       "    }\n",
       "</style>\n",
       "<table border=\"1\" class=\"dataframe\">\n",
       "  <thead>\n",
       "    <tr style=\"text-align: right;\">\n",
       "      <th></th>\n",
       "      <th>Tanks</th>\n",
       "      <th>Armoured Vehicles</th>\n",
       "      <th>Fighter Aircrafts</th>\n",
       "      <th>Helicopters</th>\n",
       "      <th>Manpower</th>\n",
       "      <th>Unmanned Aircrafts</th>\n",
       "      <th>Artillery</th>\n",
       "      <th>Ships and Boats</th>\n",
       "      <th>Cars and Tank Cars</th>\n",
       "      <th>Air Defence Systems</th>\n",
       "      <th>Multiple Rocket Launcher</th>\n",
       "      <th>Special Equipment</th>\n",
       "      <th>Cruise Missiles</th>\n",
       "      <th>Date</th>\n",
       "    </tr>\n",
       "  </thead>\n",
       "  <tbody>\n",
       "    <tr>\n",
       "      <th>2</th>\n",
       "      <td>NaN</td>\n",
       "      <td>NaN</td>\n",
       "      <td>NaN</td>\n",
       "      <td>NaN</td>\n",
       "      <td>NaN</td>\n",
       "      <td>NaN</td>\n",
       "      <td>NaN</td>\n",
       "      <td>NaN</td>\n",
       "      <td>NaN</td>\n",
       "      <td>NaN</td>\n",
       "      <td>NaN</td>\n",
       "      <td>NaN</td>\n",
       "      <td>NaN</td>\n",
       "      <td>NaT</td>\n",
       "    </tr>\n",
       "    <tr>\n",
       "      <th>3</th>\n",
       "      <td>0.0</td>\n",
       "      <td>0.0</td>\n",
       "      <td>0.0</td>\n",
       "      <td>0.0</td>\n",
       "      <td>0.0</td>\n",
       "      <td>0.0</td>\n",
       "      <td>0.0</td>\n",
       "      <td>0.0</td>\n",
       "      <td>NaN</td>\n",
       "      <td>NaN</td>\n",
       "      <td>0.0</td>\n",
       "      <td>NaN</td>\n",
       "      <td>NaN</td>\n",
       "      <td>0 days</td>\n",
       "    </tr>\n",
       "    <tr>\n",
       "      <th>4</th>\n",
       "      <td>0.0</td>\n",
       "      <td>0.0</td>\n",
       "      <td>0.0</td>\n",
       "      <td>0.0</td>\n",
       "      <td>0.0</td>\n",
       "      <td>0.0</td>\n",
       "      <td>0.0</td>\n",
       "      <td>0.0</td>\n",
       "      <td>0.0</td>\n",
       "      <td>NaN</td>\n",
       "      <td>0.0</td>\n",
       "      <td>NaN</td>\n",
       "      <td>NaN</td>\n",
       "      <td>0 days</td>\n",
       "    </tr>\n",
       "    <tr>\n",
       "      <th>5</th>\n",
       "      <td>0.0</td>\n",
       "      <td>0.0</td>\n",
       "      <td>0.0</td>\n",
       "      <td>0.0</td>\n",
       "      <td>0.0</td>\n",
       "      <td>0.0</td>\n",
       "      <td>0.0</td>\n",
       "      <td>0.0</td>\n",
       "      <td>0.0</td>\n",
       "      <td>0.0</td>\n",
       "      <td>0.0</td>\n",
       "      <td>NaN</td>\n",
       "      <td>NaN</td>\n",
       "      <td>0 days</td>\n",
       "    </tr>\n",
       "    <tr>\n",
       "      <th>6</th>\n",
       "      <td>0.0</td>\n",
       "      <td>0.0</td>\n",
       "      <td>0.0</td>\n",
       "      <td>0.0</td>\n",
       "      <td>0.0</td>\n",
       "      <td>0.0</td>\n",
       "      <td>0.0</td>\n",
       "      <td>0.0</td>\n",
       "      <td>0.0</td>\n",
       "      <td>0.0</td>\n",
       "      <td>0.0</td>\n",
       "      <td>NaN</td>\n",
       "      <td>NaN</td>\n",
       "      <td>0 days</td>\n",
       "    </tr>\n",
       "    <tr>\n",
       "      <th>...</th>\n",
       "      <td>...</td>\n",
       "      <td>...</td>\n",
       "      <td>...</td>\n",
       "      <td>...</td>\n",
       "      <td>...</td>\n",
       "      <td>...</td>\n",
       "      <td>...</td>\n",
       "      <td>...</td>\n",
       "      <td>...</td>\n",
       "      <td>...</td>\n",
       "      <td>...</td>\n",
       "      <td>...</td>\n",
       "      <td>...</td>\n",
       "      <td>...</td>\n",
       "    </tr>\n",
       "    <tr>\n",
       "      <th>271</th>\n",
       "      <td>0.0</td>\n",
       "      <td>0.0</td>\n",
       "      <td>0.0</td>\n",
       "      <td>0.0</td>\n",
       "      <td>0.0</td>\n",
       "      <td>0.0</td>\n",
       "      <td>0.0</td>\n",
       "      <td>0.0</td>\n",
       "      <td>0.0</td>\n",
       "      <td>0.0</td>\n",
       "      <td>0.0</td>\n",
       "      <td>0.0</td>\n",
       "      <td>0.0</td>\n",
       "      <td>0 days</td>\n",
       "    </tr>\n",
       "    <tr>\n",
       "      <th>272</th>\n",
       "      <td>0.0</td>\n",
       "      <td>0.0</td>\n",
       "      <td>0.0</td>\n",
       "      <td>0.0</td>\n",
       "      <td>0.0</td>\n",
       "      <td>0.0</td>\n",
       "      <td>0.0</td>\n",
       "      <td>0.0</td>\n",
       "      <td>0.0</td>\n",
       "      <td>0.0</td>\n",
       "      <td>0.0</td>\n",
       "      <td>0.0</td>\n",
       "      <td>0.0</td>\n",
       "      <td>0 days</td>\n",
       "    </tr>\n",
       "    <tr>\n",
       "      <th>273</th>\n",
       "      <td>0.0</td>\n",
       "      <td>0.0</td>\n",
       "      <td>0.0</td>\n",
       "      <td>0.0</td>\n",
       "      <td>0.0</td>\n",
       "      <td>0.0</td>\n",
       "      <td>0.0</td>\n",
       "      <td>0.0</td>\n",
       "      <td>0.0</td>\n",
       "      <td>0.0</td>\n",
       "      <td>0.0</td>\n",
       "      <td>0.0</td>\n",
       "      <td>0.0</td>\n",
       "      <td>0 days</td>\n",
       "    </tr>\n",
       "    <tr>\n",
       "      <th>274</th>\n",
       "      <td>0.0</td>\n",
       "      <td>0.0</td>\n",
       "      <td>0.0</td>\n",
       "      <td>0.0</td>\n",
       "      <td>0.0</td>\n",
       "      <td>0.0</td>\n",
       "      <td>0.0</td>\n",
       "      <td>0.0</td>\n",
       "      <td>0.0</td>\n",
       "      <td>0.0</td>\n",
       "      <td>0.0</td>\n",
       "      <td>0.0</td>\n",
       "      <td>0.0</td>\n",
       "      <td>0 days</td>\n",
       "    </tr>\n",
       "    <tr>\n",
       "      <th>275</th>\n",
       "      <td>0.0</td>\n",
       "      <td>0.0</td>\n",
       "      <td>0.0</td>\n",
       "      <td>0.0</td>\n",
       "      <td>0.0</td>\n",
       "      <td>0.0</td>\n",
       "      <td>0.0</td>\n",
       "      <td>0.0</td>\n",
       "      <td>0.0</td>\n",
       "      <td>0.0</td>\n",
       "      <td>0.0</td>\n",
       "      <td>0.0</td>\n",
       "      <td>0.0</td>\n",
       "      <td>0 days</td>\n",
       "    </tr>\n",
       "  </tbody>\n",
       "</table>\n",
       "<p>274 rows × 14 columns</p>\n",
       "</div>"
      ],
      "text/plain": [
       "     Tanks  Armoured Vehicles  Fighter Aircrafts  Helicopters  Manpower  \\\n",
       "2      NaN                NaN                NaN          NaN       NaN   \n",
       "3      0.0                0.0                0.0          0.0       0.0   \n",
       "4      0.0                0.0                0.0          0.0       0.0   \n",
       "5      0.0                0.0                0.0          0.0       0.0   \n",
       "6      0.0                0.0                0.0          0.0       0.0   \n",
       "..     ...                ...                ...          ...       ...   \n",
       "271    0.0                0.0                0.0          0.0       0.0   \n",
       "272    0.0                0.0                0.0          0.0       0.0   \n",
       "273    0.0                0.0                0.0          0.0       0.0   \n",
       "274    0.0                0.0                0.0          0.0       0.0   \n",
       "275    0.0                0.0                0.0          0.0       0.0   \n",
       "\n",
       "     Unmanned Aircrafts  Artillery  Ships and Boats  Cars and Tank Cars  \\\n",
       "2                   NaN        NaN              NaN                 NaN   \n",
       "3                   0.0        0.0              0.0                 NaN   \n",
       "4                   0.0        0.0              0.0                 0.0   \n",
       "5                   0.0        0.0              0.0                 0.0   \n",
       "6                   0.0        0.0              0.0                 0.0   \n",
       "..                  ...        ...              ...                 ...   \n",
       "271                 0.0        0.0              0.0                 0.0   \n",
       "272                 0.0        0.0              0.0                 0.0   \n",
       "273                 0.0        0.0              0.0                 0.0   \n",
       "274                 0.0        0.0              0.0                 0.0   \n",
       "275                 0.0        0.0              0.0                 0.0   \n",
       "\n",
       "     Air Defence Systems  Multiple Rocket Launcher  Special Equipment  \\\n",
       "2                    NaN                       NaN                NaN   \n",
       "3                    NaN                       0.0                NaN   \n",
       "4                    NaN                       0.0                NaN   \n",
       "5                    0.0                       0.0                NaN   \n",
       "6                    0.0                       0.0                NaN   \n",
       "..                   ...                       ...                ...   \n",
       "271                  0.0                       0.0                0.0   \n",
       "272                  0.0                       0.0                0.0   \n",
       "273                  0.0                       0.0                0.0   \n",
       "274                  0.0                       0.0                0.0   \n",
       "275                  0.0                       0.0                0.0   \n",
       "\n",
       "     Cruise Missiles   Date  \n",
       "2                NaN    NaT  \n",
       "3                NaN 0 days  \n",
       "4                NaN 0 days  \n",
       "5                NaN 0 days  \n",
       "6                NaN 0 days  \n",
       "..               ...    ...  \n",
       "271              0.0 0 days  \n",
       "272              0.0 0 days  \n",
       "273              0.0 0 days  \n",
       "274              0.0 0 days  \n",
       "275              0.0 0 days  \n",
       "\n",
       "[274 rows x 14 columns]"
      ]
     },
     "execution_count": 55,
     "metadata": {},
     "output_type": "execute_result"
    }
   ],
   "source": [
    "df.iloc[2:,:] - df.iloc[3:,:]"
   ]
  },
  {
   "cell_type": "code",
   "execution_count": 56,
   "metadata": {},
   "outputs": [
    {
     "data": {
      "text/plain": [
       "False"
      ]
     },
     "execution_count": 56,
     "metadata": {},
     "output_type": "execute_result"
    }
   ],
   "source": [
    "df = pd.read_pickle(\"armyloss.pkl\")\n",
    "df.iloc[-1]['Date'] == pd.to_datetime(\"today\")"
   ]
  },
  {
   "cell_type": "code",
   "execution_count": 57,
   "metadata": {},
   "outputs": [
    {
     "data": {
      "text/plain": [
       "True"
      ]
     },
     "execution_count": 57,
     "metadata": {},
     "output_type": "execute_result"
    }
   ],
   "source": [
    "df.iloc[-1]['Date'].day_of_year == pd.to_datetime(\"today\").day_of_year"
   ]
  },
  {
   "cell_type": "code",
   "execution_count": 58,
   "metadata": {},
   "outputs": [],
   "source": [
    "import plotly"
   ]
  },
  {
   "cell_type": "code",
   "execution_count": 67,
   "metadata": {},
   "outputs": [
    {
     "data": {
      "application/vnd.plotly.v1+json": {
       "config": {
        "plotlyServerURL": "https://plot.ly"
       },
       "data": [
        {
         "hovertemplate": "variable=Tanks<br>Date=%{x}<br>value=%{y}<extra></extra>",
         "legendgroup": "Tanks",
         "line": {
          "color": "#636efa",
          "dash": "solid"
         },
         "marker": {
          "symbol": "circle"
         },
         "mode": "lines",
         "name": "Tanks",
         "orientation": "v",
         "showlegend": true,
         "type": "scatter",
         "x": [
          "2022-02-24T00:00:00",
          "2022-02-25T00:00:00",
          "2022-02-26T00:00:00",
          "2022-02-27T00:00:00",
          "2022-02-28T00:00:00",
          "2022-03-01T00:00:00",
          "2022-03-02T00:00:00",
          "2022-03-03T00:00:00",
          "2022-03-04T00:00:00",
          "2022-03-05T00:00:00",
          "2022-03-06T00:00:00",
          "2022-03-07T00:00:00",
          "2022-03-08T00:00:00",
          "2022-03-09T00:00:00",
          "2022-03-10T00:00:00",
          "2022-03-11T00:00:00",
          "2022-03-12T00:00:00",
          "2022-03-13T00:00:00",
          "2022-03-14T00:00:00",
          "2022-03-15T00:00:00",
          "2022-03-16T00:00:00",
          "2022-03-17T00:00:00",
          "2022-03-18T00:00:00",
          "2022-03-19T00:00:00",
          "2022-03-20T00:00:00",
          "2022-03-21T00:00:00",
          "2022-03-22T00:00:00",
          "2022-03-23T00:00:00",
          "2022-03-24T00:00:00",
          "2022-03-25T00:00:00",
          "2022-03-26T00:00:00",
          "2022-03-27T00:00:00",
          "2022-03-28T00:00:00",
          "2022-03-29T00:00:00",
          "2022-03-30T00:00:00",
          "2022-03-31T00:00:00",
          "2022-04-01T00:00:00",
          "2022-04-02T00:00:00",
          "2022-04-03T00:00:00",
          "2022-04-04T00:00:00",
          "2022-04-05T00:00:00",
          "2022-04-06T00:00:00",
          "2022-04-07T00:00:00",
          "2022-04-08T00:00:00",
          "2022-04-09T00:00:00",
          "2022-04-10T00:00:00",
          "2022-04-11T00:00:00",
          "2022-04-12T00:00:00",
          "2022-04-13T00:00:00",
          "2022-04-14T00:00:00",
          "2022-04-15T00:00:00",
          "2022-04-16T00:00:00",
          "2022-04-17T00:00:00",
          "2022-04-18T00:00:00",
          "2022-04-19T00:00:00",
          "2022-04-20T00:00:00",
          "2022-04-21T00:00:00",
          "2022-04-22T00:00:00",
          "2022-04-23T00:00:00",
          "2022-04-24T00:00:00",
          "2022-04-25T00:00:00",
          "2022-04-26T00:00:00",
          "2022-04-27T00:00:00",
          "2022-04-28T00:00:00",
          "2022-04-29T00:00:00",
          "2022-04-30T00:00:00",
          "2022-05-01T00:00:00",
          "2022-05-02T00:00:00",
          "2022-05-03T00:00:00",
          "2022-05-04T00:00:00",
          "2022-05-05T00:00:00",
          "2022-05-06T00:00:00",
          "2022-05-07T00:00:00",
          "2022-05-08T00:00:00",
          "2022-05-09T00:00:00",
          "2022-05-10T00:00:00",
          "2022-05-11T00:00:00",
          "2022-05-12T00:00:00",
          "2022-05-13T00:00:00",
          "2022-05-14T00:00:00",
          "2022-05-15T00:00:00",
          "2022-05-16T00:00:00",
          "2022-05-17T00:00:00",
          "2022-05-18T00:00:00",
          "2022-05-19T00:00:00",
          "2022-05-20T00:00:00",
          "2022-05-21T00:00:00",
          "2022-05-22T00:00:00",
          "2022-05-23T00:00:00",
          "2022-05-24T00:00:00",
          "2022-05-25T00:00:00",
          "2022-05-26T00:00:00",
          "2022-05-27T00:00:00",
          "2022-05-28T00:00:00",
          "2022-05-29T00:00:00",
          "2022-05-30T00:00:00",
          "2022-05-31T00:00:00",
          "2022-06-01T00:00:00",
          "2022-06-02T00:00:00",
          "2022-06-03T00:00:00",
          "2022-06-04T00:00:00",
          "2022-06-05T00:00:00",
          "2022-06-06T00:00:00",
          "2022-06-07T00:00:00",
          "2022-06-08T00:00:00",
          "2022-06-09T00:00:00",
          "2022-06-10T00:00:00",
          "2022-06-11T00:00:00",
          "2022-06-12T00:00:00",
          "2022-06-13T00:00:00",
          "2022-06-14T00:00:00",
          "2022-06-15T00:00:00",
          "2022-06-16T00:00:00",
          "2022-06-17T00:00:00",
          "2022-06-18T00:00:00",
          "2022-06-19T00:00:00",
          "2022-06-20T00:00:00",
          "2022-06-21T00:00:00",
          "2022-06-22T00:00:00",
          "2022-06-23T00:00:00",
          "2022-06-24T00:00:00",
          "2022-06-25T00:00:00",
          "2022-06-26T00:00:00",
          "2022-06-27T00:00:00",
          "2022-06-28T00:00:00",
          "2022-06-29T00:00:00",
          "2022-06-30T00:00:00",
          "2022-07-01T00:00:00",
          "2022-07-02T00:00:00",
          "2022-07-03T00:00:00",
          "2022-07-04T00:00:00",
          "2022-07-05T00:00:00",
          "2022-07-06T00:00:00",
          "2022-07-07T00:00:00",
          "2022-07-08T00:00:00",
          "2022-07-09T00:00:00",
          "2022-07-10T00:00:00",
          "2022-07-11T00:00:00",
          "2022-07-12T00:00:00",
          "2022-07-13T00:00:00",
          "2022-07-14T00:00:00",
          "2022-07-15T00:00:00",
          "2022-07-16T00:00:00",
          "2022-07-17T00:00:00",
          "2022-07-18T00:00:00",
          "2022-07-19T00:00:00",
          "2022-07-20T00:00:00",
          "2022-07-21T00:00:00",
          "2022-07-22T00:00:00",
          "2022-07-23T00:00:00",
          "2022-07-24T00:00:00",
          "2022-07-25T00:00:00",
          "2022-07-26T00:00:00",
          "2022-07-27T00:00:00",
          "2022-07-28T00:00:00",
          "2022-07-29T00:00:00",
          "2022-07-30T00:00:00",
          "2022-07-31T00:00:00",
          "2022-08-01T00:00:00",
          "2022-08-02T00:00:00",
          "2022-08-03T00:00:00",
          "2022-08-04T00:00:00",
          "2022-08-05T00:00:00",
          "2022-08-06T00:00:00",
          "2022-08-07T00:00:00",
          "2022-08-08T00:00:00",
          "2022-08-09T00:00:00",
          "2022-08-10T00:00:00",
          "2022-08-11T00:00:00",
          "2022-08-12T00:00:00",
          "2022-08-13T00:00:00",
          "2022-08-14T00:00:00",
          "2022-08-15T00:00:00",
          "2022-08-16T00:00:00",
          "2022-08-17T00:00:00",
          "2022-08-18T00:00:00",
          "2022-08-19T00:00:00",
          "2022-08-20T00:00:00",
          "2022-08-21T00:00:00",
          "2022-08-22T00:00:00",
          "2022-08-23T00:00:00",
          "2022-08-24T00:00:00",
          "2022-08-25T00:00:00",
          "2022-08-26T00:00:00",
          "2022-08-27T00:00:00",
          "2022-08-28T00:00:00",
          "2022-08-29T00:00:00",
          "2022-08-30T00:00:00",
          "2022-08-31T00:00:00",
          "2022-09-01T00:00:00",
          "2022-09-02T00:00:00",
          "2022-09-03T00:00:00",
          "2022-09-04T00:00:00",
          "2022-09-05T00:00:00",
          "2022-09-06T00:00:00",
          "2022-09-07T00:00:00",
          "2022-09-08T00:00:00",
          "2022-09-09T00:00:00",
          "2022-09-10T00:00:00",
          "2022-09-11T00:00:00",
          "2022-09-12T00:00:00",
          "2022-09-13T00:00:00",
          "2022-09-14T00:00:00",
          "2022-09-15T00:00:00",
          "2022-09-16T00:00:00",
          "2022-09-17T00:00:00",
          "2022-09-18T00:00:00",
          "2022-09-19T00:00:00",
          "2022-09-20T00:00:00",
          "2022-09-21T00:00:00",
          "2022-09-22T00:00:00",
          "2022-09-23T00:00:00",
          "2022-09-24T00:00:00",
          "2022-09-25T00:00:00",
          "2022-09-26T00:00:00",
          "2022-09-27T00:00:00",
          "2022-09-28T00:00:00",
          "2022-09-29T00:00:00",
          "2022-09-30T00:00:00",
          "2022-10-01T00:00:00",
          "2022-10-02T00:00:00",
          "2022-10-03T00:00:00",
          "2022-10-04T00:00:00",
          "2022-10-05T00:00:00",
          "2022-10-06T00:00:00",
          "2022-10-07T00:00:00",
          "2022-10-08T00:00:00",
          "2022-10-09T00:00:00",
          "2022-10-10T00:00:00",
          "2022-10-11T00:00:00",
          "2022-10-12T00:00:00",
          "2022-10-13T00:00:00",
          "2022-10-14T00:00:00",
          "2022-10-15T00:00:00",
          "2022-10-16T00:00:00",
          "2022-10-17T00:00:00",
          "2022-10-18T00:00:00",
          "2022-10-19T00:00:00",
          "2022-10-20T00:00:00",
          "2022-10-21T00:00:00",
          "2022-10-22T00:00:00",
          "2022-10-23T00:00:00",
          "2022-10-24T00:00:00",
          "2022-10-25T00:00:00",
          "2022-10-26T00:00:00",
          "2022-10-27T00:00:00",
          "2022-10-28T00:00:00",
          "2022-10-29T00:00:00",
          "2022-10-30T00:00:00",
          "2022-10-31T00:00:00",
          "2022-11-01T00:00:00",
          "2022-11-02T00:00:00",
          "2022-11-03T00:00:00",
          "2022-11-04T00:00:00",
          "2022-11-05T00:00:00",
          "2022-11-06T00:00:00",
          "2022-11-07T00:00:00",
          "2022-11-08T00:00:00",
          "2022-11-09T00:00:00",
          "2022-11-10T00:00:00",
          "2022-11-11T00:00:00",
          "2022-11-12T00:00:00",
          "2022-11-13T00:00:00",
          "2022-11-14T00:00:00",
          "2022-11-15T00:00:00",
          "2022-11-16T00:00:00",
          "2022-11-17T00:00:00",
          "2022-11-18T00:00:00",
          "2022-11-19T00:00:00",
          "2022-11-20T00:00:00",
          "2022-11-21T00:00:00",
          "2022-11-22T00:00:00",
          "2022-11-23T00:00:00",
          "2022-11-24T00:00:00",
          "2022-11-25T00:00:00",
          "2022-11-26T00:00:00"
         ],
         "xaxis": "x",
         "y": [
          30,
          80,
          100,
          150,
          191,
          198,
          211,
          217,
          251,
          269,
          285,
          290,
          303,
          317,
          335,
          353,
          362,
          374,
          389,
          404,
          430,
          444,
          450,
          466,
          476,
          498,
          509,
          517,
          530,
          561,
          575,
          582,
          586,
          597,
          605,
          614,
          625,
          631,
          644,
          647,
          676,
          684,
          698,
          700,
          705,
          722,
          725,
          732,
          739,
          753,
          756,
          762,
          773,
          790,
          802,
          815,
          829,
          838,
          854,
          873,
          884,
          918,
          939,
          970,
          986,
          1008,
          1026,
          1048,
          1062,
          1077,
          1092,
          1110,
          1122,
          1130,
          1145,
          1170,
          1187,
          1195,
          1205,
          1218,
          1220,
          1228,
          1235,
          1251,
          1254,
          1263,
          1278,
          1285,
          1293,
          1302,
          1305,
          1315,
          1322,
          1330,
          1338,
          1349,
          1358,
          1361,
          1363,
          1367,
          1376,
          1381,
          1386,
          1390,
          1393,
          1398,
          1409,
          1419,
          1430,
          1432,
          1434,
          1440,
          1449,
          1456,
          1465,
          1468,
          1477,
          1496,
          1496,
          1504,
          1507,
          1511,
          1532,
          1552,
          1567,
          1572,
          1573,
          1577,
          1582,
          1584,
          1589,
          1594,
          1600,
          1602,
          1637,
          1638,
          1641,
          1645,
          1649,
          1649,
          1667,
          1672,
          1677,
          1684,
          1687,
          1691,
          1700,
          1704,
          1704,
          1708,
          1722,
          1730,
          1737,
          1738,
          1742,
          1749,
          1759,
          1763,
          1768,
          1768,
          1774,
          1789,
          1792,
          1802,
          1805,
          1811,
          1817,
          1832,
          1846,
          1849,
          1856,
          1864,
          1876,
          1880,
          1886,
          1889,
          1899,
          1907,
          1912,
          1919,
          1921,
          1924,
          1929,
          1936,
          1939,
          1942,
          1947,
          1954,
          1974,
          1997,
          2009,
          2034,
          2049,
          2068,
          2077,
          2097,
          2112,
          2122,
          2136,
          2154,
          2168,
          2175,
          2180,
          2193,
          2199,
          2202,
          2210,
          2212,
          2216,
          2227,
          2236,
          2254,
          2262,
          2275,
          2290,
          2306,
          2312,
          2325,
          2338,
          2354,
          2377,
          2380,
          2424,
          2435,
          2449,
          2466,
          2472,
          2486,
          2495,
          2504,
          2505,
          2511,
          2521,
          2524,
          2529,
          2537,
          2548,
          2554,
          2567,
          2573,
          2579,
          2584,
          2590,
          2611,
          2628,
          2631,
          2640,
          2659,
          2672,
          2686,
          2698,
          2714,
          2734,
          2750,
          2758,
          2765,
          2771,
          2786,
          2801,
          2804,
          2814,
          2838,
          2840,
          2848,
          2861,
          2871,
          2878,
          2879,
          2885,
          2886,
          2892,
          2895,
          2897,
          2898,
          2899,
          2901
         ],
         "yaxis": "y"
        },
        {
         "hovertemplate": "variable=Helicopters<br>Date=%{x}<br>value=%{y}<extra></extra>",
         "legendgroup": "Helicopters",
         "line": {
          "color": "#EF553B",
          "dash": "solid"
         },
         "marker": {
          "symbol": "circle"
         },
         "mode": "lines",
         "name": "Helicopters",
         "orientation": "v",
         "showlegend": true,
         "type": "scatter",
         "x": [
          "2022-02-24T00:00:00",
          "2022-02-25T00:00:00",
          "2022-02-26T00:00:00",
          "2022-02-27T00:00:00",
          "2022-02-28T00:00:00",
          "2022-03-01T00:00:00",
          "2022-03-02T00:00:00",
          "2022-03-03T00:00:00",
          "2022-03-04T00:00:00",
          "2022-03-05T00:00:00",
          "2022-03-06T00:00:00",
          "2022-03-07T00:00:00",
          "2022-03-08T00:00:00",
          "2022-03-09T00:00:00",
          "2022-03-10T00:00:00",
          "2022-03-11T00:00:00",
          "2022-03-12T00:00:00",
          "2022-03-13T00:00:00",
          "2022-03-14T00:00:00",
          "2022-03-15T00:00:00",
          "2022-03-16T00:00:00",
          "2022-03-17T00:00:00",
          "2022-03-18T00:00:00",
          "2022-03-19T00:00:00",
          "2022-03-20T00:00:00",
          "2022-03-21T00:00:00",
          "2022-03-22T00:00:00",
          "2022-03-23T00:00:00",
          "2022-03-24T00:00:00",
          "2022-03-25T00:00:00",
          "2022-03-26T00:00:00",
          "2022-03-27T00:00:00",
          "2022-03-28T00:00:00",
          "2022-03-29T00:00:00",
          "2022-03-30T00:00:00",
          "2022-03-31T00:00:00",
          "2022-04-01T00:00:00",
          "2022-04-02T00:00:00",
          "2022-04-03T00:00:00",
          "2022-04-04T00:00:00",
          "2022-04-05T00:00:00",
          "2022-04-06T00:00:00",
          "2022-04-07T00:00:00",
          "2022-04-08T00:00:00",
          "2022-04-09T00:00:00",
          "2022-04-10T00:00:00",
          "2022-04-11T00:00:00",
          "2022-04-12T00:00:00",
          "2022-04-13T00:00:00",
          "2022-04-14T00:00:00",
          "2022-04-15T00:00:00",
          "2022-04-16T00:00:00",
          "2022-04-17T00:00:00",
          "2022-04-18T00:00:00",
          "2022-04-19T00:00:00",
          "2022-04-20T00:00:00",
          "2022-04-21T00:00:00",
          "2022-04-22T00:00:00",
          "2022-04-23T00:00:00",
          "2022-04-24T00:00:00",
          "2022-04-25T00:00:00",
          "2022-04-26T00:00:00",
          "2022-04-27T00:00:00",
          "2022-04-28T00:00:00",
          "2022-04-29T00:00:00",
          "2022-04-30T00:00:00",
          "2022-05-01T00:00:00",
          "2022-05-02T00:00:00",
          "2022-05-03T00:00:00",
          "2022-05-04T00:00:00",
          "2022-05-05T00:00:00",
          "2022-05-06T00:00:00",
          "2022-05-07T00:00:00",
          "2022-05-08T00:00:00",
          "2022-05-09T00:00:00",
          "2022-05-10T00:00:00",
          "2022-05-11T00:00:00",
          "2022-05-12T00:00:00",
          "2022-05-13T00:00:00",
          "2022-05-14T00:00:00",
          "2022-05-15T00:00:00",
          "2022-05-16T00:00:00",
          "2022-05-17T00:00:00",
          "2022-05-18T00:00:00",
          "2022-05-19T00:00:00",
          "2022-05-20T00:00:00",
          "2022-05-21T00:00:00",
          "2022-05-22T00:00:00",
          "2022-05-23T00:00:00",
          "2022-05-24T00:00:00",
          "2022-05-25T00:00:00",
          "2022-05-26T00:00:00",
          "2022-05-27T00:00:00",
          "2022-05-28T00:00:00",
          "2022-05-29T00:00:00",
          "2022-05-30T00:00:00",
          "2022-05-31T00:00:00",
          "2022-06-01T00:00:00",
          "2022-06-02T00:00:00",
          "2022-06-03T00:00:00",
          "2022-06-04T00:00:00",
          "2022-06-05T00:00:00",
          "2022-06-06T00:00:00",
          "2022-06-07T00:00:00",
          "2022-06-08T00:00:00",
          "2022-06-09T00:00:00",
          "2022-06-10T00:00:00",
          "2022-06-11T00:00:00",
          "2022-06-12T00:00:00",
          "2022-06-13T00:00:00",
          "2022-06-14T00:00:00",
          "2022-06-15T00:00:00",
          "2022-06-16T00:00:00",
          "2022-06-17T00:00:00",
          "2022-06-18T00:00:00",
          "2022-06-19T00:00:00",
          "2022-06-20T00:00:00",
          "2022-06-21T00:00:00",
          "2022-06-22T00:00:00",
          "2022-06-23T00:00:00",
          "2022-06-24T00:00:00",
          "2022-06-25T00:00:00",
          "2022-06-26T00:00:00",
          "2022-06-27T00:00:00",
          "2022-06-28T00:00:00",
          "2022-06-29T00:00:00",
          "2022-06-30T00:00:00",
          "2022-07-01T00:00:00",
          "2022-07-02T00:00:00",
          "2022-07-03T00:00:00",
          "2022-07-04T00:00:00",
          "2022-07-05T00:00:00",
          "2022-07-06T00:00:00",
          "2022-07-07T00:00:00",
          "2022-07-08T00:00:00",
          "2022-07-09T00:00:00",
          "2022-07-10T00:00:00",
          "2022-07-11T00:00:00",
          "2022-07-12T00:00:00",
          "2022-07-13T00:00:00",
          "2022-07-14T00:00:00",
          "2022-07-15T00:00:00",
          "2022-07-16T00:00:00",
          "2022-07-17T00:00:00",
          "2022-07-18T00:00:00",
          "2022-07-19T00:00:00",
          "2022-07-20T00:00:00",
          "2022-07-21T00:00:00",
          "2022-07-22T00:00:00",
          "2022-07-23T00:00:00",
          "2022-07-24T00:00:00",
          "2022-07-25T00:00:00",
          "2022-07-26T00:00:00",
          "2022-07-27T00:00:00",
          "2022-07-28T00:00:00",
          "2022-07-29T00:00:00",
          "2022-07-30T00:00:00",
          "2022-07-31T00:00:00",
          "2022-08-01T00:00:00",
          "2022-08-02T00:00:00",
          "2022-08-03T00:00:00",
          "2022-08-04T00:00:00",
          "2022-08-05T00:00:00",
          "2022-08-06T00:00:00",
          "2022-08-07T00:00:00",
          "2022-08-08T00:00:00",
          "2022-08-09T00:00:00",
          "2022-08-10T00:00:00",
          "2022-08-11T00:00:00",
          "2022-08-12T00:00:00",
          "2022-08-13T00:00:00",
          "2022-08-14T00:00:00",
          "2022-08-15T00:00:00",
          "2022-08-16T00:00:00",
          "2022-08-17T00:00:00",
          "2022-08-18T00:00:00",
          "2022-08-19T00:00:00",
          "2022-08-20T00:00:00",
          "2022-08-21T00:00:00",
          "2022-08-22T00:00:00",
          "2022-08-23T00:00:00",
          "2022-08-24T00:00:00",
          "2022-08-25T00:00:00",
          "2022-08-26T00:00:00",
          "2022-08-27T00:00:00",
          "2022-08-28T00:00:00",
          "2022-08-29T00:00:00",
          "2022-08-30T00:00:00",
          "2022-08-31T00:00:00",
          "2022-09-01T00:00:00",
          "2022-09-02T00:00:00",
          "2022-09-03T00:00:00",
          "2022-09-04T00:00:00",
          "2022-09-05T00:00:00",
          "2022-09-06T00:00:00",
          "2022-09-07T00:00:00",
          "2022-09-08T00:00:00",
          "2022-09-09T00:00:00",
          "2022-09-10T00:00:00",
          "2022-09-11T00:00:00",
          "2022-09-12T00:00:00",
          "2022-09-13T00:00:00",
          "2022-09-14T00:00:00",
          "2022-09-15T00:00:00",
          "2022-09-16T00:00:00",
          "2022-09-17T00:00:00",
          "2022-09-18T00:00:00",
          "2022-09-19T00:00:00",
          "2022-09-20T00:00:00",
          "2022-09-21T00:00:00",
          "2022-09-22T00:00:00",
          "2022-09-23T00:00:00",
          "2022-09-24T00:00:00",
          "2022-09-25T00:00:00",
          "2022-09-26T00:00:00",
          "2022-09-27T00:00:00",
          "2022-09-28T00:00:00",
          "2022-09-29T00:00:00",
          "2022-09-30T00:00:00",
          "2022-10-01T00:00:00",
          "2022-10-02T00:00:00",
          "2022-10-03T00:00:00",
          "2022-10-04T00:00:00",
          "2022-10-05T00:00:00",
          "2022-10-06T00:00:00",
          "2022-10-07T00:00:00",
          "2022-10-08T00:00:00",
          "2022-10-09T00:00:00",
          "2022-10-10T00:00:00",
          "2022-10-11T00:00:00",
          "2022-10-12T00:00:00",
          "2022-10-13T00:00:00",
          "2022-10-14T00:00:00",
          "2022-10-15T00:00:00",
          "2022-10-16T00:00:00",
          "2022-10-17T00:00:00",
          "2022-10-18T00:00:00",
          "2022-10-19T00:00:00",
          "2022-10-20T00:00:00",
          "2022-10-21T00:00:00",
          "2022-10-22T00:00:00",
          "2022-10-23T00:00:00",
          "2022-10-24T00:00:00",
          "2022-10-25T00:00:00",
          "2022-10-26T00:00:00",
          "2022-10-27T00:00:00",
          "2022-10-28T00:00:00",
          "2022-10-29T00:00:00",
          "2022-10-30T00:00:00",
          "2022-10-31T00:00:00",
          "2022-11-01T00:00:00",
          "2022-11-02T00:00:00",
          "2022-11-03T00:00:00",
          "2022-11-04T00:00:00",
          "2022-11-05T00:00:00",
          "2022-11-06T00:00:00",
          "2022-11-07T00:00:00",
          "2022-11-08T00:00:00",
          "2022-11-09T00:00:00",
          "2022-11-10T00:00:00",
          "2022-11-11T00:00:00",
          "2022-11-12T00:00:00",
          "2022-11-13T00:00:00",
          "2022-11-14T00:00:00",
          "2022-11-15T00:00:00",
          "2022-11-16T00:00:00",
          "2022-11-17T00:00:00",
          "2022-11-18T00:00:00",
          "2022-11-19T00:00:00",
          "2022-11-20T00:00:00",
          "2022-11-21T00:00:00",
          "2022-11-22T00:00:00",
          "2022-11-23T00:00:00",
          "2022-11-24T00:00:00",
          "2022-11-25T00:00:00",
          "2022-11-26T00:00:00"
         ],
         "xaxis": "x",
         "y": [
          6,
          7,
          18,
          26,
          29,
          29,
          31,
          31,
          37,
          40,
          48,
          68,
          80,
          81,
          81,
          83,
          83,
          86,
          90,
          95,
          108,
          108,
          112,
          115,
          118,
          121,
          123,
          124,
          124,
          125,
          127,
          127,
          127,
          129,
          131,
          131,
          131,
          134,
          134,
          134,
          134,
          135,
          135,
          135,
          136,
          137,
          137,
          140,
          143,
          144,
          144,
          145,
          146,
          147,
          150,
          150,
          151,
          153,
          154,
          154,
          154,
          154,
          155,
          155,
          155,
          155,
          155,
          155,
          155,
          155,
          155,
          155,
          155,
          156,
          158,
          158,
          160,
          161,
          162,
          163,
          164,
          165,
          167,
          167,
          167,
          168,
          169,
          170,
          170,
          170,
          170,
          170,
          170,
          174,
          174,
          174,
          174,
          175,
          175,
          175,
          175,
          175,
          176,
          177,
          178,
          178,
          178,
          178,
          178,
          178,
          179,
          179,
          179,
          180,
          180,
          181,
          181,
          181,
          182,
          183,
          183,
          184,
          184,
          184,
          185,
          185,
          185,
          186,
          186,
          187,
          187,
          187,
          187,
          187,
          187,
          187,
          188,
          188,
          188,
          188,
          188,
          188,
          188,
          188,
          188,
          188,
          188,
          188,
          188,
          188,
          188,
          188,
          189,
          190,
          190,
          190,
          190,
          190,
          190,
          191,
          191,
          191,
          191,
          191,
          191,
          192,
          193,
          193,
          193,
          193,
          193,
          194,
          195,
          196,
          196,
          197,
          197,
          197,
          197,
          198,
          198,
          199,
          202,
          202,
          202,
          202,
          203,
          204,
          204,
          205,
          205,
          205,
          206,
          206,
          207,
          208,
          210,
          211,
          212,
          213,
          213,
          213,
          215,
          215,
          216,
          216,
          217,
          217,
          217,
          217,
          218,
          219,
          220,
          220,
          224,
          224,
          224,
          224,
          225,
          226,
          227,
          228,
          228,
          232,
          232,
          233,
          234,
          235,
          235,
          235,
          235,
          240,
          240,
          242,
          242,
          242,
          242,
          242,
          243,
          243,
          243,
          245,
          245,
          248,
          248,
          249,
          251,
          252,
          252,
          253,
          257,
          258,
          258,
          258,
          260,
          260,
          260,
          260,
          260,
          260,
          261,
          261,
          261,
          261,
          261,
          261,
          261,
          261,
          261,
          261,
          261,
          261,
          261,
          261,
          261,
          261
         ],
         "yaxis": "y"
        }
       ],
       "layout": {
        "height": 500,
        "legend": {
         "title": {
          "text": "variable"
         },
         "tracegroupgap": 0
        },
        "template": {
         "data": {
          "bar": [
           {
            "error_x": {
             "color": "#2a3f5f"
            },
            "error_y": {
             "color": "#2a3f5f"
            },
            "marker": {
             "line": {
              "color": "#E5ECF6",
              "width": 0.5
             },
             "pattern": {
              "fillmode": "overlay",
              "size": 10,
              "solidity": 0.2
             }
            },
            "type": "bar"
           }
          ],
          "barpolar": [
           {
            "marker": {
             "line": {
              "color": "#E5ECF6",
              "width": 0.5
             },
             "pattern": {
              "fillmode": "overlay",
              "size": 10,
              "solidity": 0.2
             }
            },
            "type": "barpolar"
           }
          ],
          "carpet": [
           {
            "aaxis": {
             "endlinecolor": "#2a3f5f",
             "gridcolor": "white",
             "linecolor": "white",
             "minorgridcolor": "white",
             "startlinecolor": "#2a3f5f"
            },
            "baxis": {
             "endlinecolor": "#2a3f5f",
             "gridcolor": "white",
             "linecolor": "white",
             "minorgridcolor": "white",
             "startlinecolor": "#2a3f5f"
            },
            "type": "carpet"
           }
          ],
          "choropleth": [
           {
            "colorbar": {
             "outlinewidth": 0,
             "ticks": ""
            },
            "type": "choropleth"
           }
          ],
          "contour": [
           {
            "colorbar": {
             "outlinewidth": 0,
             "ticks": ""
            },
            "colorscale": [
             [
              0,
              "#0d0887"
             ],
             [
              0.1111111111111111,
              "#46039f"
             ],
             [
              0.2222222222222222,
              "#7201a8"
             ],
             [
              0.3333333333333333,
              "#9c179e"
             ],
             [
              0.4444444444444444,
              "#bd3786"
             ],
             [
              0.5555555555555556,
              "#d8576b"
             ],
             [
              0.6666666666666666,
              "#ed7953"
             ],
             [
              0.7777777777777778,
              "#fb9f3a"
             ],
             [
              0.8888888888888888,
              "#fdca26"
             ],
             [
              1,
              "#f0f921"
             ]
            ],
            "type": "contour"
           }
          ],
          "contourcarpet": [
           {
            "colorbar": {
             "outlinewidth": 0,
             "ticks": ""
            },
            "type": "contourcarpet"
           }
          ],
          "heatmap": [
           {
            "colorbar": {
             "outlinewidth": 0,
             "ticks": ""
            },
            "colorscale": [
             [
              0,
              "#0d0887"
             ],
             [
              0.1111111111111111,
              "#46039f"
             ],
             [
              0.2222222222222222,
              "#7201a8"
             ],
             [
              0.3333333333333333,
              "#9c179e"
             ],
             [
              0.4444444444444444,
              "#bd3786"
             ],
             [
              0.5555555555555556,
              "#d8576b"
             ],
             [
              0.6666666666666666,
              "#ed7953"
             ],
             [
              0.7777777777777778,
              "#fb9f3a"
             ],
             [
              0.8888888888888888,
              "#fdca26"
             ],
             [
              1,
              "#f0f921"
             ]
            ],
            "type": "heatmap"
           }
          ],
          "heatmapgl": [
           {
            "colorbar": {
             "outlinewidth": 0,
             "ticks": ""
            },
            "colorscale": [
             [
              0,
              "#0d0887"
             ],
             [
              0.1111111111111111,
              "#46039f"
             ],
             [
              0.2222222222222222,
              "#7201a8"
             ],
             [
              0.3333333333333333,
              "#9c179e"
             ],
             [
              0.4444444444444444,
              "#bd3786"
             ],
             [
              0.5555555555555556,
              "#d8576b"
             ],
             [
              0.6666666666666666,
              "#ed7953"
             ],
             [
              0.7777777777777778,
              "#fb9f3a"
             ],
             [
              0.8888888888888888,
              "#fdca26"
             ],
             [
              1,
              "#f0f921"
             ]
            ],
            "type": "heatmapgl"
           }
          ],
          "histogram": [
           {
            "marker": {
             "pattern": {
              "fillmode": "overlay",
              "size": 10,
              "solidity": 0.2
             }
            },
            "type": "histogram"
           }
          ],
          "histogram2d": [
           {
            "colorbar": {
             "outlinewidth": 0,
             "ticks": ""
            },
            "colorscale": [
             [
              0,
              "#0d0887"
             ],
             [
              0.1111111111111111,
              "#46039f"
             ],
             [
              0.2222222222222222,
              "#7201a8"
             ],
             [
              0.3333333333333333,
              "#9c179e"
             ],
             [
              0.4444444444444444,
              "#bd3786"
             ],
             [
              0.5555555555555556,
              "#d8576b"
             ],
             [
              0.6666666666666666,
              "#ed7953"
             ],
             [
              0.7777777777777778,
              "#fb9f3a"
             ],
             [
              0.8888888888888888,
              "#fdca26"
             ],
             [
              1,
              "#f0f921"
             ]
            ],
            "type": "histogram2d"
           }
          ],
          "histogram2dcontour": [
           {
            "colorbar": {
             "outlinewidth": 0,
             "ticks": ""
            },
            "colorscale": [
             [
              0,
              "#0d0887"
             ],
             [
              0.1111111111111111,
              "#46039f"
             ],
             [
              0.2222222222222222,
              "#7201a8"
             ],
             [
              0.3333333333333333,
              "#9c179e"
             ],
             [
              0.4444444444444444,
              "#bd3786"
             ],
             [
              0.5555555555555556,
              "#d8576b"
             ],
             [
              0.6666666666666666,
              "#ed7953"
             ],
             [
              0.7777777777777778,
              "#fb9f3a"
             ],
             [
              0.8888888888888888,
              "#fdca26"
             ],
             [
              1,
              "#f0f921"
             ]
            ],
            "type": "histogram2dcontour"
           }
          ],
          "mesh3d": [
           {
            "colorbar": {
             "outlinewidth": 0,
             "ticks": ""
            },
            "type": "mesh3d"
           }
          ],
          "parcoords": [
           {
            "line": {
             "colorbar": {
              "outlinewidth": 0,
              "ticks": ""
             }
            },
            "type": "parcoords"
           }
          ],
          "pie": [
           {
            "automargin": true,
            "type": "pie"
           }
          ],
          "scatter": [
           {
            "fillpattern": {
             "fillmode": "overlay",
             "size": 10,
             "solidity": 0.2
            },
            "type": "scatter"
           }
          ],
          "scatter3d": [
           {
            "line": {
             "colorbar": {
              "outlinewidth": 0,
              "ticks": ""
             }
            },
            "marker": {
             "colorbar": {
              "outlinewidth": 0,
              "ticks": ""
             }
            },
            "type": "scatter3d"
           }
          ],
          "scattercarpet": [
           {
            "marker": {
             "colorbar": {
              "outlinewidth": 0,
              "ticks": ""
             }
            },
            "type": "scattercarpet"
           }
          ],
          "scattergeo": [
           {
            "marker": {
             "colorbar": {
              "outlinewidth": 0,
              "ticks": ""
             }
            },
            "type": "scattergeo"
           }
          ],
          "scattergl": [
           {
            "marker": {
             "colorbar": {
              "outlinewidth": 0,
              "ticks": ""
             }
            },
            "type": "scattergl"
           }
          ],
          "scattermapbox": [
           {
            "marker": {
             "colorbar": {
              "outlinewidth": 0,
              "ticks": ""
             }
            },
            "type": "scattermapbox"
           }
          ],
          "scatterpolar": [
           {
            "marker": {
             "colorbar": {
              "outlinewidth": 0,
              "ticks": ""
             }
            },
            "type": "scatterpolar"
           }
          ],
          "scatterpolargl": [
           {
            "marker": {
             "colorbar": {
              "outlinewidth": 0,
              "ticks": ""
             }
            },
            "type": "scatterpolargl"
           }
          ],
          "scatterternary": [
           {
            "marker": {
             "colorbar": {
              "outlinewidth": 0,
              "ticks": ""
             }
            },
            "type": "scatterternary"
           }
          ],
          "surface": [
           {
            "colorbar": {
             "outlinewidth": 0,
             "ticks": ""
            },
            "colorscale": [
             [
              0,
              "#0d0887"
             ],
             [
              0.1111111111111111,
              "#46039f"
             ],
             [
              0.2222222222222222,
              "#7201a8"
             ],
             [
              0.3333333333333333,
              "#9c179e"
             ],
             [
              0.4444444444444444,
              "#bd3786"
             ],
             [
              0.5555555555555556,
              "#d8576b"
             ],
             [
              0.6666666666666666,
              "#ed7953"
             ],
             [
              0.7777777777777778,
              "#fb9f3a"
             ],
             [
              0.8888888888888888,
              "#fdca26"
             ],
             [
              1,
              "#f0f921"
             ]
            ],
            "type": "surface"
           }
          ],
          "table": [
           {
            "cells": {
             "fill": {
              "color": "#EBF0F8"
             },
             "line": {
              "color": "white"
             }
            },
            "header": {
             "fill": {
              "color": "#C8D4E3"
             },
             "line": {
              "color": "white"
             }
            },
            "type": "table"
           }
          ]
         },
         "layout": {
          "annotationdefaults": {
           "arrowcolor": "#2a3f5f",
           "arrowhead": 0,
           "arrowwidth": 1
          },
          "autotypenumbers": "strict",
          "coloraxis": {
           "colorbar": {
            "outlinewidth": 0,
            "ticks": ""
           }
          },
          "colorscale": {
           "diverging": [
            [
             0,
             "#8e0152"
            ],
            [
             0.1,
             "#c51b7d"
            ],
            [
             0.2,
             "#de77ae"
            ],
            [
             0.3,
             "#f1b6da"
            ],
            [
             0.4,
             "#fde0ef"
            ],
            [
             0.5,
             "#f7f7f7"
            ],
            [
             0.6,
             "#e6f5d0"
            ],
            [
             0.7,
             "#b8e186"
            ],
            [
             0.8,
             "#7fbc41"
            ],
            [
             0.9,
             "#4d9221"
            ],
            [
             1,
             "#276419"
            ]
           ],
           "sequential": [
            [
             0,
             "#0d0887"
            ],
            [
             0.1111111111111111,
             "#46039f"
            ],
            [
             0.2222222222222222,
             "#7201a8"
            ],
            [
             0.3333333333333333,
             "#9c179e"
            ],
            [
             0.4444444444444444,
             "#bd3786"
            ],
            [
             0.5555555555555556,
             "#d8576b"
            ],
            [
             0.6666666666666666,
             "#ed7953"
            ],
            [
             0.7777777777777778,
             "#fb9f3a"
            ],
            [
             0.8888888888888888,
             "#fdca26"
            ],
            [
             1,
             "#f0f921"
            ]
           ],
           "sequentialminus": [
            [
             0,
             "#0d0887"
            ],
            [
             0.1111111111111111,
             "#46039f"
            ],
            [
             0.2222222222222222,
             "#7201a8"
            ],
            [
             0.3333333333333333,
             "#9c179e"
            ],
            [
             0.4444444444444444,
             "#bd3786"
            ],
            [
             0.5555555555555556,
             "#d8576b"
            ],
            [
             0.6666666666666666,
             "#ed7953"
            ],
            [
             0.7777777777777778,
             "#fb9f3a"
            ],
            [
             0.8888888888888888,
             "#fdca26"
            ],
            [
             1,
             "#f0f921"
            ]
           ]
          },
          "colorway": [
           "#636efa",
           "#EF553B",
           "#00cc96",
           "#ab63fa",
           "#FFA15A",
           "#19d3f3",
           "#FF6692",
           "#B6E880",
           "#FF97FF",
           "#FECB52"
          ],
          "font": {
           "color": "#2a3f5f"
          },
          "geo": {
           "bgcolor": "white",
           "lakecolor": "white",
           "landcolor": "#E5ECF6",
           "showlakes": true,
           "showland": true,
           "subunitcolor": "white"
          },
          "hoverlabel": {
           "align": "left"
          },
          "hovermode": "closest",
          "mapbox": {
           "style": "light"
          },
          "paper_bgcolor": "white",
          "plot_bgcolor": "#E5ECF6",
          "polar": {
           "angularaxis": {
            "gridcolor": "white",
            "linecolor": "white",
            "ticks": ""
           },
           "bgcolor": "#E5ECF6",
           "radialaxis": {
            "gridcolor": "white",
            "linecolor": "white",
            "ticks": ""
           }
          },
          "scene": {
           "xaxis": {
            "backgroundcolor": "#E5ECF6",
            "gridcolor": "white",
            "gridwidth": 2,
            "linecolor": "white",
            "showbackground": true,
            "ticks": "",
            "zerolinecolor": "white"
           },
           "yaxis": {
            "backgroundcolor": "#E5ECF6",
            "gridcolor": "white",
            "gridwidth": 2,
            "linecolor": "white",
            "showbackground": true,
            "ticks": "",
            "zerolinecolor": "white"
           },
           "zaxis": {
            "backgroundcolor": "#E5ECF6",
            "gridcolor": "white",
            "gridwidth": 2,
            "linecolor": "white",
            "showbackground": true,
            "ticks": "",
            "zerolinecolor": "white"
           }
          },
          "shapedefaults": {
           "line": {
            "color": "#2a3f5f"
           }
          },
          "ternary": {
           "aaxis": {
            "gridcolor": "white",
            "linecolor": "white",
            "ticks": ""
           },
           "baxis": {
            "gridcolor": "white",
            "linecolor": "white",
            "ticks": ""
           },
           "bgcolor": "#E5ECF6",
           "caxis": {
            "gridcolor": "white",
            "linecolor": "white",
            "ticks": ""
           }
          },
          "title": {
           "x": 0.05
          },
          "xaxis": {
           "automargin": true,
           "gridcolor": "white",
           "linecolor": "white",
           "ticks": "",
           "title": {
            "standoff": 15
           },
           "zerolinecolor": "white",
           "zerolinewidth": 2
          },
          "yaxis": {
           "automargin": true,
           "gridcolor": "white",
           "linecolor": "white",
           "ticks": "",
           "title": {
            "standoff": 15
           },
           "zerolinecolor": "white",
           "zerolinewidth": 2
          }
         }
        },
        "title": {
         "text": "Life expectancy in Canada"
        },
        "width": 600,
        "xaxis": {
         "anchor": "y",
         "domain": [
          0,
          1
         ],
         "title": {
          "text": "Date"
         }
        },
        "yaxis": {
         "anchor": "x",
         "domain": [
          0,
          1
         ],
         "title": {
          "text": "value"
         }
        }
       }
      }
     },
     "metadata": {},
     "output_type": "display_data"
    }
   ],
   "source": [
    "import plotly.express as px\n",
    "fig = px.line(df, x=\"Date\", y=[\"Tanks\", 'Helicopters'], title='Life expectancy in Canada',  width=600, height=500)\n",
    "fig.show()"
   ]
  },
  {
   "cell_type": "code",
   "execution_count": null,
   "metadata": {},
   "outputs": [],
   "source": [
    "fig = px.bar(df, x=\"Data\", y=\"count\", color=\"medal\", title=\"Long-Form Input\")\n",
    "fig.show()"
   ]
  }
 ],
 "metadata": {
  "interpreter": {
   "hash": "39260048f5f1eed7a6df98d07eff3fff6fb4634acf42dc63a6338d63ea54d0f7"
  },
  "kernelspec": {
   "display_name": "Python 3.9.0 64-bit ('3.9.0')",
   "language": "python",
   "name": "python3"
  },
  "language_info": {
   "codemirror_mode": {
    "name": "ipython",
    "version": 3
   },
   "file_extension": ".py",
   "mimetype": "text/x-python",
   "name": "python",
   "nbconvert_exporter": "python",
   "pygments_lexer": "ipython3",
   "version": "3.9.0"
  },
  "orig_nbformat": 4
 },
 "nbformat": 4,
 "nbformat_minor": 2
}
